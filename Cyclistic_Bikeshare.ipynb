{
 "cells": [
  {
   "cell_type": "markdown",
   "id": "ec1afcec-046f-48d7-857d-18387181635c",
   "metadata": {},
   "source": [
    "# Case Study: Cyclistic"
   ]
  },
  {
   "cell_type": "markdown",
   "id": "c85b9d88-c4ba-489a-a8fe-671394a5e1aa",
   "metadata": {},
   "source": [
    "## Case Background"
   ]
  },
  {
   "cell_type": "markdown",
   "id": "749869a1-e702-43e9-840c-8fc9a54d2f93",
   "metadata": {},
   "source": [
    "As a junior data analyst working for Cyclistic in the marketing analyst team, I am tasked to understand how do annual members and casual riders differentiate when using Cyclistic bikes. Casual riders are customers that purchase single-ride or full-day passes, whereas annual members have a yearly subscription for unlimited biking access. As part of the analysis we would try to figure out how we could convert casual riders into annual members. \n",
    "\n",
    "The scope of the project would give the stakeholders the insights on the data for data-driven decision-making on the new Cyclistic's marketing strategy. \n"
   ]
  },
  {
   "cell_type": "markdown",
   "id": "064dbee1-ffca-487a-b83a-ab7f39cdee6c",
   "metadata": {},
   "source": [
    "# Scope of Work"
   ]
  },
  {
   "cell_type": "markdown",
   "id": "cc89f6ff-67a6-41ee-b241-4cca601c9b17",
   "metadata": {},
   "source": [
    "During the analysis we would be going through the following phases and completing the following tasks"
   ]
  },
  {
   "cell_type": "markdown",
   "id": "62c4e1ae-f4bb-4adb-be24-1c953ee786a7",
   "metadata": {},
   "source": [
    "###\n",
    "| Phases | Tasks |\n",
    "| :-: | :- |\n",
    "| 1. Define the project and goals | <ul><li>Producing a scope of work document</li><li>Framing a problem statement</li><li>Defining project goals and the measurements to define success by discussing the project with stakeholders and ascertaining expectations</li></ul>|\n",
    "| 2. Extract and prepare the data | <ul><li>Identifying the data location and its structure</li><li>Determining if the data \"ROCCC\" (Realibility, Origin, Comprehensiveness, Current relevance and Cited)</li><li>Addressing license, privacy, security and accesibility issues</li><li>Verifying the data's integrity</li><li>Identifying how does the data answer our businness question</li></ul>|\n",
    "| 3. Process data for analysis | <ul><li>Defining the tools to use for the analysis</li><li>Checking for dirty data and ensuring data's integrity</li><li>Verifying data is clean and ready for analysis</li><li>Documenting the cleaning process</li></ul> |\n",
    "| 4. Analyze the data | <ul><li>Organizing the data for analysis</li><li>Identifying trends and relationships and surprise elements</li><li>Provide a summary of the analysis</li></ul> |\n",
    "| 5. Sharing the key findings through visuals | <ul><li>Determining the best way to share the key findings to answer the business question</li><li>Create data visualizations to easily present the findings</li><li>Ensure the work performed is available and accesible for stakeholders</li></ul> |\n",
    "| 6. Act based on the findings | <ul><li>Provide three actions to take as a marketing strategy based on the key findings </li></ul> |\n",
    "    \n"
   ]
  },
  {
   "cell_type": "markdown",
   "id": "6c3d8279-eb90-477a-a98d-72e9519b19ad",
   "metadata": {},
   "source": [
    "## 1. Define the problem and goals"
   ]
  },
  {
   "cell_type": "markdown",
   "id": "aa8e3a5d-360f-4765-b067-28e47b8ddad4",
   "metadata": {},
   "source": [
    "### Business Background"
   ]
  },
  {
   "cell_type": "markdown",
   "id": "962eebce-45ac-4587-81b5-76535652c4a1",
   "metadata": {},
   "source": [
    "Business Model\n",
    "\n",
    "- Product: Bike-share program and bikes network accross Chicago\n",
    "- Customer and revenue model: Annual members (subscription) and casual riders (single-ride and full-day purchases)\n",
    "- Competitive advantage: Bicycle variety with inclusive models for people with disabilities and riders who can't use the standard two-wheeled bike.\n",
    "\n",
    "Product Background\n",
    "\n",
    "- Over 6000 bikes and 600 docking stationns across Chicago.\n",
    "- Most riders opt for tradicional bikes\n",
    "- 8% of riders use the assiptive options\n",
    "- Cyclist bycicles are mostly used for leisure. Around 30% use them to go to work.\n"
   ]
  },
  {
   "cell_type": "markdown",
   "id": "3ede0fef-7a5f-4ee9-bd1f-77f465e7b72b",
   "metadata": {},
   "source": [
    "### Problem Statement"
   ]
  },
  {
   "cell_type": "markdown",
   "id": "9d6c844f-a14c-49df-a366-df5b17f08d0d",
   "metadata": {},
   "source": [
    "Cyclist has already been settled as an option to move throughout the city in Chicago. To be able to further grow they need to implement new marketing strategies. Lily Moreno, the Director of Marketing believes that Cyclistic should capitalize on maximizing the number of annual members. To do so, Moreno believes the best marketing strategy should focus on converting casual riders (already aware of the advantages of Cyclist) into annual members. \n",
    "To make a data-driven decission on the best marketing strategy, we need to analyze how Cyclist casual users differ from annual members and why the choose that option. "
   ]
  },
  {
   "cell_type": "markdown",
   "id": "824e8b26-f327-4ee1-8b2a-ff62ca6c7f4f",
   "metadata": {},
   "source": [
    "### Goals and expectations"
   ]
  },
  {
   "cell_type": "markdown",
   "id": "e12a56dd-c758-48ad-aef7-5223be5a36d1",
   "metadata": {},
   "source": [
    "| Stakeholders | Expectations | Business goals |\n",
    "| :- | :- | :- |\n",
    "| Lily Moreno, Director of marketing | Evidence to support a marketing strategy | Develop a marketing campaign to improve te bike-sharing membership program | \n",
    "| Cyclistic marketing analytics team | To uncover the differences between the customer types and the motives to use the different kind of models | Define the best actions to convert casual riders into annual members |  \n",
    "| Cyclistic Executive Team | Compelling, relevant and straighforward insights to inform detailed data-driven decisions | To approve and implement the best marketing strategy for business growth | "
   ]
  },
  {
   "cell_type": "markdown",
   "id": "2458a5db-b8cd-40de-b8b9-5ded175ce73a",
   "metadata": {},
   "source": [
    "## 2. Extract and prepare the data"
   ]
  },
  {
   "cell_type": "markdown",
   "id": "f87e8544-c917-4a4f-a943-3a7f423b1441",
   "metadata": {},
   "source": [
    "### Data Source and Organization"
   ]
  },
  {
   "cell_type": "markdown",
   "id": "ab1a86dd-4089-417e-b5a4-2d8d67135aab",
   "metadata": {},
   "source": [
    "The data that we will be using was extracted from [here](https://divvy-tripdata.s3.amazonaws.com/index.html). This data is made available by Motivate International Inc. under this [license](https://ride.divvybikes.com/data-license-agreement). (Note: Cyclist is a fictional company and the dataset is used only for the purpose of this study).\n",
    "\n",
    "The extracted data is made up of quantitative measurements collected over time divided in monthly packages. Each data point represents a trip for a docking station to another. \n",
    "\n",
    "The data does not contain any qualitative measurement. A survey on casual riders and annual members could be very useful to understand  **why** they use Cyclist. It would be very useful to know whether casual riders also use some other platforms with their casual rides and compare the services. I would propose to conduct this surveys to the riders.\n",
    "\n",
    "While that survey may or may not happen, we move forward to the analysis of the quantitative data. Quantitative data can also provide trends that helps identify the motives.\n",
    "\n",
    "We will be examining a period of 12 months, from the start of June 2021 to the end of May 2022. Every month data is stored in a CSV file with the same headings. Every record represents a trip with the keys: a unique ID (primary key), type of bike, type of customer, DateTime for when the bike was picked up and dropped off and starting and ending docking station details(name, ID, latitude and longitude)."
   ]
  },
  {
   "cell_type": "markdown",
   "id": "79c96bea-cf45-4277-9dcf-99c96c141778",
   "metadata": {
    "tags": []
   },
   "source": [
    "### Preparing the data"
   ]
  },
  {
   "cell_type": "markdown",
   "id": "de761028-075d-41bf-a450-71a36baf16c8",
   "metadata": {
    "tags": []
   },
   "source": [
    "#### Setting up libraries"
   ]
  },
  {
   "cell_type": "code",
   "execution_count": 1,
   "id": "78649ed0-dc09-4bab-8357-a2370509e32b",
   "metadata": {
    "tags": []
   },
   "outputs": [],
   "source": [
    "import numpy as np                                ## basic algebra functions\n",
    "import pandas as pd                               ## data manipulation\n",
    "from shapely.geometry import Point                ## Plotting in a map.\n",
    "import matplotlib.pyplot as plt                   ## plotting module  \n",
    "import geopandas as gpd                           ## geographical visualizations\n",
    "from geopandas import GeoDataFrame                ## Using our dataframe to plot\n",
    "import glob                                       ## pathnames\n",
    "import os                                         ## path file handling\n",
    "from datetime import date, datetime, timedelta    ## to deal with dates and times\n"
   ]
  },
  {
   "cell_type": "markdown",
   "id": "87ae2618-a9ce-45a5-8a2a-eb4a44266d8c",
   "metadata": {},
   "source": [
    "#### Loading and merging the datasets"
   ]
  },
  {
   "cell_type": "code",
   "execution_count": 2,
   "id": "14d7b069-74a4-43cd-9a39-4702e097adf2",
   "metadata": {},
   "outputs": [],
   "source": [
    "# We will be using os for the path handling of our files. They are stored in a subforder called CSV.\n",
    "local_path = os.getcwd() + '\\CSV'\n",
    "\n",
    "# Since we only have the desired files in the subfolder let's read them all.\n",
    "filenames = glob.glob(local_path + \"/*.csv\")\n",
    "\n",
    "dfs = [pd.read_csv(f) for f in filenames]\n",
    "# We know that fields \"started_at\" and \"ended_at\" are datetime datatype fields. We should use the following code chunk instead:\n",
    "# dfs = [pd.read_csv(f, parse_dates=[\"started_at\", \"ended_at\"] ) for f in filenames]\n",
    "# However, since we might not know this for now, let's use the basic code and reformat later on.\n",
    "\n",
    "# Let's combine all of the df into a global one\n",
    "df = pd.concat(dfs,ignore_index=True)\n",
    "\n",
    "# This wouldn't be necessary for our analysis, but we will save the merged CSV file for future uses.\n",
    "df.to_csv('2022-june-year-divvy-tripdata.csv')"
   ]
  },
  {
   "cell_type": "markdown",
   "id": "e28caefb-3527-472b-958e-844cda4944d5",
   "metadata": {},
   "source": [
    "#### Data preview"
   ]
  },
  {
   "cell_type": "code",
   "execution_count": 3,
   "id": "c7a02c49-0511-487c-af3e-46805b9d4cc4",
   "metadata": {},
   "outputs": [
    {
     "data": {
      "text/html": [
       "<div>\n",
       "<style scoped>\n",
       "    .dataframe tbody tr th:only-of-type {\n",
       "        vertical-align: middle;\n",
       "    }\n",
       "\n",
       "    .dataframe tbody tr th {\n",
       "        vertical-align: top;\n",
       "    }\n",
       "\n",
       "    .dataframe thead th {\n",
       "        text-align: right;\n",
       "    }\n",
       "</style>\n",
       "<table border=\"1\" class=\"dataframe\">\n",
       "  <thead>\n",
       "    <tr style=\"text-align: right;\">\n",
       "      <th></th>\n",
       "      <th>ride_id</th>\n",
       "      <th>rideable_type</th>\n",
       "      <th>started_at</th>\n",
       "      <th>ended_at</th>\n",
       "      <th>start_station_name</th>\n",
       "      <th>start_station_id</th>\n",
       "      <th>end_station_name</th>\n",
       "      <th>end_station_id</th>\n",
       "      <th>start_lat</th>\n",
       "      <th>start_lng</th>\n",
       "      <th>end_lat</th>\n",
       "      <th>end_lng</th>\n",
       "      <th>member_casual</th>\n",
       "    </tr>\n",
       "  </thead>\n",
       "  <tbody>\n",
       "    <tr>\n",
       "      <th>0</th>\n",
       "      <td>99FEC93BA843FB20</td>\n",
       "      <td>electric_bike</td>\n",
       "      <td>2021-06-13 14:31:28</td>\n",
       "      <td>2021-06-13 14:34:11</td>\n",
       "      <td>NaN</td>\n",
       "      <td>NaN</td>\n",
       "      <td>NaN</td>\n",
       "      <td>NaN</td>\n",
       "      <td>41.80</td>\n",
       "      <td>-87.59</td>\n",
       "      <td>41.80</td>\n",
       "      <td>-87.60</td>\n",
       "      <td>member</td>\n",
       "    </tr>\n",
       "    <tr>\n",
       "      <th>1</th>\n",
       "      <td>06048DCFC8520CAF</td>\n",
       "      <td>electric_bike</td>\n",
       "      <td>2021-06-04 11:18:02</td>\n",
       "      <td>2021-06-04 11:24:19</td>\n",
       "      <td>NaN</td>\n",
       "      <td>NaN</td>\n",
       "      <td>NaN</td>\n",
       "      <td>NaN</td>\n",
       "      <td>41.79</td>\n",
       "      <td>-87.59</td>\n",
       "      <td>41.80</td>\n",
       "      <td>-87.60</td>\n",
       "      <td>member</td>\n",
       "    </tr>\n",
       "    <tr>\n",
       "      <th>2</th>\n",
       "      <td>9598066F68045DF2</td>\n",
       "      <td>electric_bike</td>\n",
       "      <td>2021-06-04 09:49:35</td>\n",
       "      <td>2021-06-04 09:55:34</td>\n",
       "      <td>NaN</td>\n",
       "      <td>NaN</td>\n",
       "      <td>NaN</td>\n",
       "      <td>NaN</td>\n",
       "      <td>41.80</td>\n",
       "      <td>-87.60</td>\n",
       "      <td>41.79</td>\n",
       "      <td>-87.59</td>\n",
       "      <td>member</td>\n",
       "    </tr>\n",
       "    <tr>\n",
       "      <th>3</th>\n",
       "      <td>B03C0FE48C412214</td>\n",
       "      <td>electric_bike</td>\n",
       "      <td>2021-06-03 19:56:05</td>\n",
       "      <td>2021-06-03 20:21:55</td>\n",
       "      <td>NaN</td>\n",
       "      <td>NaN</td>\n",
       "      <td>NaN</td>\n",
       "      <td>NaN</td>\n",
       "      <td>41.78</td>\n",
       "      <td>-87.58</td>\n",
       "      <td>41.80</td>\n",
       "      <td>-87.60</td>\n",
       "      <td>member</td>\n",
       "    </tr>\n",
       "    <tr>\n",
       "      <th>4</th>\n",
       "      <td>B9EEA89F8FEE73B7</td>\n",
       "      <td>electric_bike</td>\n",
       "      <td>2021-06-04 14:05:51</td>\n",
       "      <td>2021-06-04 14:09:59</td>\n",
       "      <td>NaN</td>\n",
       "      <td>NaN</td>\n",
       "      <td>NaN</td>\n",
       "      <td>NaN</td>\n",
       "      <td>41.80</td>\n",
       "      <td>-87.59</td>\n",
       "      <td>41.79</td>\n",
       "      <td>-87.59</td>\n",
       "      <td>member</td>\n",
       "    </tr>\n",
       "  </tbody>\n",
       "</table>\n",
       "</div>"
      ],
      "text/plain": [
       "            ride_id  rideable_type           started_at             ended_at  \\\n",
       "0  99FEC93BA843FB20  electric_bike  2021-06-13 14:31:28  2021-06-13 14:34:11   \n",
       "1  06048DCFC8520CAF  electric_bike  2021-06-04 11:18:02  2021-06-04 11:24:19   \n",
       "2  9598066F68045DF2  electric_bike  2021-06-04 09:49:35  2021-06-04 09:55:34   \n",
       "3  B03C0FE48C412214  electric_bike  2021-06-03 19:56:05  2021-06-03 20:21:55   \n",
       "4  B9EEA89F8FEE73B7  electric_bike  2021-06-04 14:05:51  2021-06-04 14:09:59   \n",
       "\n",
       "  start_station_name start_station_id end_station_name end_station_id  \\\n",
       "0                NaN              NaN              NaN            NaN   \n",
       "1                NaN              NaN              NaN            NaN   \n",
       "2                NaN              NaN              NaN            NaN   \n",
       "3                NaN              NaN              NaN            NaN   \n",
       "4                NaN              NaN              NaN            NaN   \n",
       "\n",
       "   start_lat  start_lng  end_lat  end_lng member_casual  \n",
       "0      41.80     -87.59    41.80   -87.60        member  \n",
       "1      41.79     -87.59    41.80   -87.60        member  \n",
       "2      41.80     -87.60    41.79   -87.59        member  \n",
       "3      41.78     -87.58    41.80   -87.60        member  \n",
       "4      41.80     -87.59    41.79   -87.59        member  "
      ]
     },
     "execution_count": 3,
     "metadata": {},
     "output_type": "execute_result"
    }
   ],
   "source": [
    "df.head()"
   ]
  },
  {
   "cell_type": "markdown",
   "id": "a7ac2dd2-d340-4362-be9f-27acf2aa0f1a",
   "metadata": {},
   "source": [
    "Let's order it by start_station_name to get a look at the information contained in it."
   ]
  },
  {
   "cell_type": "code",
   "execution_count": 4,
   "id": "8bbb4a19-eed0-456b-bc65-bf7142705156",
   "metadata": {},
   "outputs": [
    {
     "data": {
      "text/html": [
       "<div>\n",
       "<style scoped>\n",
       "    .dataframe tbody tr th:only-of-type {\n",
       "        vertical-align: middle;\n",
       "    }\n",
       "\n",
       "    .dataframe tbody tr th {\n",
       "        vertical-align: top;\n",
       "    }\n",
       "\n",
       "    .dataframe thead th {\n",
       "        text-align: right;\n",
       "    }\n",
       "</style>\n",
       "<table border=\"1\" class=\"dataframe\">\n",
       "  <thead>\n",
       "    <tr style=\"text-align: right;\">\n",
       "      <th></th>\n",
       "      <th>ride_id</th>\n",
       "      <th>rideable_type</th>\n",
       "      <th>started_at</th>\n",
       "      <th>ended_at</th>\n",
       "      <th>start_station_name</th>\n",
       "      <th>start_station_id</th>\n",
       "      <th>end_station_name</th>\n",
       "      <th>end_station_id</th>\n",
       "      <th>start_lat</th>\n",
       "      <th>start_lng</th>\n",
       "      <th>end_lat</th>\n",
       "      <th>end_lng</th>\n",
       "      <th>member_casual</th>\n",
       "    </tr>\n",
       "  </thead>\n",
       "  <tbody>\n",
       "    <tr>\n",
       "      <th>5467026</th>\n",
       "      <td>37A6412C492BA13D</td>\n",
       "      <td>electric_bike</td>\n",
       "      <td>2022-05-13 17:14:27</td>\n",
       "      <td>2022-05-13 17:23:41</td>\n",
       "      <td>111th St - Morgan Park Metra</td>\n",
       "      <td>682</td>\n",
       "      <td>NaN</td>\n",
       "      <td>NaN</td>\n",
       "      <td>41.690000</td>\n",
       "      <td>-87.670000</td>\n",
       "      <td>41.69000</td>\n",
       "      <td>-87.690000</td>\n",
       "      <td>member</td>\n",
       "    </tr>\n",
       "    <tr>\n",
       "      <th>5716839</th>\n",
       "      <td>E821E779F578FAD1</td>\n",
       "      <td>electric_bike</td>\n",
       "      <td>2022-05-13 15:04:52</td>\n",
       "      <td>2022-05-13 15:11:24</td>\n",
       "      <td>111th St - Morgan Park Metra</td>\n",
       "      <td>682</td>\n",
       "      <td>Walden Pkwy &amp; 103rd St</td>\n",
       "      <td>693</td>\n",
       "      <td>41.690000</td>\n",
       "      <td>-87.670000</td>\n",
       "      <td>41.71000</td>\n",
       "      <td>-87.670000</td>\n",
       "      <td>member</td>\n",
       "    </tr>\n",
       "    <tr>\n",
       "      <th>5467025</th>\n",
       "      <td>3C6EA90051295365</td>\n",
       "      <td>electric_bike</td>\n",
       "      <td>2022-05-12 17:50:44</td>\n",
       "      <td>2022-05-12 17:58:23</td>\n",
       "      <td>111th St - Morgan Park Metra</td>\n",
       "      <td>682</td>\n",
       "      <td>NaN</td>\n",
       "      <td>NaN</td>\n",
       "      <td>41.690000</td>\n",
       "      <td>-87.670000</td>\n",
       "      <td>41.69000</td>\n",
       "      <td>-87.690000</td>\n",
       "      <td>member</td>\n",
       "    </tr>\n",
       "    <tr>\n",
       "      <th>5466972</th>\n",
       "      <td>54932094E964F02A</td>\n",
       "      <td>electric_bike</td>\n",
       "      <td>2022-05-09 16:50:29</td>\n",
       "      <td>2022-05-09 16:57:23</td>\n",
       "      <td>111th St - Morgan Park Metra</td>\n",
       "      <td>682</td>\n",
       "      <td>NaN</td>\n",
       "      <td>NaN</td>\n",
       "      <td>41.690000</td>\n",
       "      <td>-87.670000</td>\n",
       "      <td>41.70000</td>\n",
       "      <td>-87.680000</td>\n",
       "      <td>member</td>\n",
       "    </tr>\n",
       "    <tr>\n",
       "      <th>4127751</th>\n",
       "      <td>B67009AFED601547</td>\n",
       "      <td>electric_bike</td>\n",
       "      <td>2021-12-29 18:05:59</td>\n",
       "      <td>2021-12-29 18:15:09</td>\n",
       "      <td>2112 W Peterson Ave</td>\n",
       "      <td>KA1504000155</td>\n",
       "      <td>Clark St &amp; Elmdale Ave</td>\n",
       "      <td>KA1504000148</td>\n",
       "      <td>41.991154</td>\n",
       "      <td>-87.683623</td>\n",
       "      <td>41.99086</td>\n",
       "      <td>-87.669724</td>\n",
       "      <td>member</td>\n",
       "    </tr>\n",
       "  </tbody>\n",
       "</table>\n",
       "</div>"
      ],
      "text/plain": [
       "                  ride_id  rideable_type           started_at  \\\n",
       "5467026  37A6412C492BA13D  electric_bike  2022-05-13 17:14:27   \n",
       "5716839  E821E779F578FAD1  electric_bike  2022-05-13 15:04:52   \n",
       "5467025  3C6EA90051295365  electric_bike  2022-05-12 17:50:44   \n",
       "5466972  54932094E964F02A  electric_bike  2022-05-09 16:50:29   \n",
       "4127751  B67009AFED601547  electric_bike  2021-12-29 18:05:59   \n",
       "\n",
       "                    ended_at            start_station_name start_station_id  \\\n",
       "5467026  2022-05-13 17:23:41  111th St - Morgan Park Metra              682   \n",
       "5716839  2022-05-13 15:11:24  111th St - Morgan Park Metra              682   \n",
       "5467025  2022-05-12 17:58:23  111th St - Morgan Park Metra              682   \n",
       "5466972  2022-05-09 16:57:23  111th St - Morgan Park Metra              682   \n",
       "4127751  2021-12-29 18:15:09           2112 W Peterson Ave     KA1504000155   \n",
       "\n",
       "               end_station_name end_station_id  start_lat  start_lng  \\\n",
       "5467026                     NaN            NaN  41.690000 -87.670000   \n",
       "5716839  Walden Pkwy & 103rd St            693  41.690000 -87.670000   \n",
       "5467025                     NaN            NaN  41.690000 -87.670000   \n",
       "5466972                     NaN            NaN  41.690000 -87.670000   \n",
       "4127751  Clark St & Elmdale Ave   KA1504000148  41.991154 -87.683623   \n",
       "\n",
       "          end_lat    end_lng member_casual  \n",
       "5467026  41.69000 -87.690000        member  \n",
       "5716839  41.71000 -87.670000        member  \n",
       "5467025  41.69000 -87.690000        member  \n",
       "5466972  41.70000 -87.680000        member  \n",
       "4127751  41.99086 -87.669724        member  "
      ]
     },
     "execution_count": 4,
     "metadata": {},
     "output_type": "execute_result"
    }
   ],
   "source": [
    "sorted_df = df.sort_values(by='start_station_name')\n",
    "sorted_df.head()"
   ]
  },
  {
   "cell_type": "markdown",
   "id": "01363368-4b06-4c63-bba0-0e8bdaf62968",
   "metadata": {},
   "source": [
    "At first glance we can see that all columns will be important to our analysis. The data will allow us to look for trends on the trip duration, distance, type of bike used comparing both kind of users.\n",
    "\n",
    "On the other hand, we can already see some null values in the fields 'start_station_name', 'start_station_id', 'end_station_name' and 'end_station_id' to look for when processing the data."
   ]
  },
  {
   "cell_type": "markdown",
   "id": "4c9b16e6-9bfd-4468-a950-0445a72b2e23",
   "metadata": {
    "tags": []
   },
   "source": [
    "### Data Quality "
   ]
  },
  {
   "cell_type": "markdown",
   "id": "bb87aff4-9dad-482e-9d0a-4adf69f8786c",
   "metadata": {},
   "source": [
    "Before preparing the data, we should get to know our data and check for its quality. We would look at the features for an analysis standard (ROCCC):\n",
    "- Reliability:\n",
    "| Reliability issues | Description |\n",
    "| :-: | :- |\n",
    "| Data validity | The data is raw and it does not have many constraints. There are end datetimes recorded at the same second as starting datetimes. Moreover, the accuracy for latitude and longitude vary for every record. |\n",
    "| Incomplete data | Depending on the month review it can have up to 40% of rows with null data. |\n",
    "\n",
    "- Original: \n",
    "\n",
    "The data was extracted from the data source provided by a first-party group (Motivate International Inc.). There were not unknown, nor any third party interventions.\n",
    "\n",
    "- Comprehensiveness:\n",
    "\n",
    "The data set is quite easy to understand. All the keys and the structure is very comprehensive.\n",
    "\n",
    "- Current: \n",
    "\n",
    "We have downloaded the last reports with the last month updates. We do not have access to the very last month report but because it is still getting collected.\n",
    "\n",
    "- Cited:\n",
    "\n",
    "The dataset is collected by Motivate International Inc. and we have extracted the public open data they provide.\n"
   ]
  },
  {
   "cell_type": "markdown",
   "id": "87ec534f-d058-4af3-ae4d-f1960b19aa24",
   "metadata": {
    "tags": []
   },
   "source": [
    "### Licensing, privacy, security and accesibility"
   ]
  },
  {
   "cell_type": "markdown",
   "id": "05f0e6fa-4549-4782-9cd8-47370ab976f9",
   "metadata": {},
   "source": [
    "- The data has been extracted by the open-source provided by Motivate International Inc. under this [license terms](https://ride.divvybikes.com/data-license-agreement). \n",
    "\n",
    "- There are no private information stored in the open data, the rides are identified by an unique ID key, and there are no personally identifiable information (AWS).\n",
    "\n",
    "- Data is in a cloud repository that is managed by Motivate International Inc. and secured by a trusted well-known cloud services provider.\n",
    "\n",
    "- All of Cyclistic's bike ride records can be accessed and are open to the public. "
   ]
  },
  {
   "cell_type": "markdown",
   "id": "00678a58-8174-45bc-8810-d8315ac04d41",
   "metadata": {
    "tags": []
   },
   "source": [
    "### Data consistency and integrity"
   ]
  },
  {
   "cell_type": "markdown",
   "id": "27a024f7-ce55-4bc8-9e09-51eab47c0ee6",
   "metadata": {},
   "source": [
    "There are some inconsistencies on the data, like trip durations of over a day, even for casual users. \n",
    "\n",
    "Also, it seems like the accuracy when measuring the coordenates vary between records. \n",
    "\n",
    "When processing the data we would need to look at this elements. "
   ]
  },
  {
   "cell_type": "markdown",
   "id": "51c0a279-a382-4cd0-a424-4e19be756371",
   "metadata": {},
   "source": [
    "## 3. Process data for analysis"
   ]
  },
  {
   "cell_type": "markdown",
   "id": "840012bc-6343-4570-babc-a76b6e05476c",
   "metadata": {},
   "source": [
    "### Choosing the right tools"
   ]
  },
  {
   "cell_type": "markdown",
   "id": "6159c8ae-7bc8-40ca-bea0-28a6b9ddb905",
   "metadata": {},
   "source": [
    "First of all we will take a look at the weight for the entire dataset."
   ]
  },
  {
   "cell_type": "code",
   "execution_count": 5,
   "id": "4a15d62f-1150-45f9-99ca-bc79d6e24c41",
   "metadata": {},
   "outputs": [
    {
     "name": "stdout",
     "output_type": "stream",
     "text": [
      "The # of rows of the dataset are 5860776.0\n",
      "The dataset size is :  1130.36 Megabytes\n"
     ]
    }
   ],
   "source": [
    "# we want to know the amount of rows and the weight of the dataframe.\n",
    "# first let's get the number of rows.\n",
    "rows = df.size/13\n",
    "\n",
    "# now let's get the weight of the complete csv file in Megabytes.\n",
    "weight = round(os.stat('2022-june-year-divvy-tripdata.csv').st_size/1000000, 2)\n",
    "\n",
    "print('The # of rows of the dataset are', rows)\n",
    "\n",
    "print('The dataset size is : ', weight, 'Megabytes')"
   ]
  },
  {
   "cell_type": "markdown",
   "id": "5cf19afd-27da-4774-8093-49feb266c513",
   "metadata": {},
   "source": [
    "With the amount of rows and the weight for the files, spreadsheets are not an option. This leaves us with either SQL or Python (or R).\n",
    "\n",
    "The dataset has already been downloaded from the [Cloud Storage](https://divvy-tripdata.s3.amazonaws.com/index.html) and we are expecting to perform some calculations on the data. For this reasoning we are choosing Python for this analysis.\n",
    "\n",
    "Moreover, since we are documenting all steps, Jupyter Notebooks is the best tool to be doing so.\n",
    "\n",
    "Once the data is analyzed we could choose a visualization tool. The visualizations could be done in Python, but for an interactive visualization tool we might choose to perform some Tableau dashboards."
   ]
  },
  {
   "cell_type": "markdown",
   "id": "a9b59a1f-8b9a-4845-9ee6-f6072e6d63cf",
   "metadata": {},
   "source": [
    "### Checking for dirty data"
   ]
  },
  {
   "cell_type": "markdown",
   "id": "f28ce2b6-7af6-4d44-9a15-db37614c430e",
   "metadata": {},
   "source": [
    "#### Checking the dataset right formatting"
   ]
  },
  {
   "cell_type": "markdown",
   "id": "72e4c262-7254-4dbd-ab5c-1ce9c1a7337c",
   "metadata": {},
   "source": [
    "We already got a glance of the data in the previous step from the CSV file. However, let's look at the data once we have it uploaded into our project. "
   ]
  },
  {
   "cell_type": "code",
   "execution_count": 6,
   "id": "d67d1eeb-2b8c-406f-8640-bf011e18d099",
   "metadata": {},
   "outputs": [
    {
     "name": "stdout",
     "output_type": "stream",
     "text": [
      "<class 'pandas.core.frame.DataFrame'>\n",
      "RangeIndex: 5860776 entries, 0 to 5860775\n",
      "Data columns (total 13 columns):\n",
      " #   Column              Dtype  \n",
      "---  ------              -----  \n",
      " 0   ride_id             object \n",
      " 1   rideable_type       object \n",
      " 2   started_at          object \n",
      " 3   ended_at            object \n",
      " 4   start_station_name  object \n",
      " 5   start_station_id    object \n",
      " 6   end_station_name    object \n",
      " 7   end_station_id      object \n",
      " 8   start_lat           float64\n",
      " 9   start_lng           float64\n",
      " 10  end_lat             float64\n",
      " 11  end_lng             float64\n",
      " 12  member_casual       object \n",
      "dtypes: float64(4), object(9)\n",
      "memory usage: 581.3+ MB\n"
     ]
    }
   ],
   "source": [
    "df.info()"
   ]
  },
  {
   "cell_type": "markdown",
   "id": "fb239a04-d7a1-41ce-a091-1d25d2af2b80",
   "metadata": {},
   "source": [
    "We can see that the fields \"started_at\" and \"ended_at\" do not have the right datatype.\n",
    "\n",
    "(Note: if we already knew when reading the CSV file, we could use  *parse_dates=[\"started_at\", \"ended_at\"]*  in the pd.read_csv code statement)\n",
    "\n",
    "On the other hand, we will change the data type for rideable_type and member_casual to decrease the weight of the dataframe."
   ]
  },
  {
   "cell_type": "code",
   "execution_count": 7,
   "id": "e32c9975-1c80-4316-9d9c-1b20e29b7e2d",
   "metadata": {},
   "outputs": [
    {
     "name": "stdout",
     "output_type": "stream",
     "text": [
      "<class 'pandas.core.frame.DataFrame'>\n",
      "RangeIndex: 5860776 entries, 0 to 5860775\n",
      "Data columns (total 13 columns):\n",
      " #   Column              Dtype         \n",
      "---  ------              -----         \n",
      " 0   ride_id             object        \n",
      " 1   rideable_type       category      \n",
      " 2   started_at          datetime64[ns]\n",
      " 3   ended_at            datetime64[ns]\n",
      " 4   start_station_name  object        \n",
      " 5   start_station_id    object        \n",
      " 6   end_station_name    object        \n",
      " 7   end_station_id      object        \n",
      " 8   start_lat           float64       \n",
      " 9   start_lng           float64       \n",
      " 10  end_lat             float64       \n",
      " 11  end_lng             float64       \n",
      " 12  member_casual       category      \n",
      "dtypes: category(2), datetime64[ns](2), float64(4), object(5)\n",
      "memory usage: 503.0+ MB\n"
     ]
    }
   ],
   "source": [
    "df['started_at']= pd.to_datetime(df['started_at'])\n",
    "df['ended_at']= pd.to_datetime(df['ended_at'])\n",
    "df['rideable_type'] = df['rideable_type'].astype('category')\n",
    "df['member_casual'] = df['member_casual'].astype('category')\n",
    "\n",
    "df.info()"
   ]
  },
  {
   "cell_type": "markdown",
   "id": "cc422d1c-4d08-4787-9c64-219b84f6eeeb",
   "metadata": {},
   "source": [
    "Now we have the right format for all our data. Let's start the cleaning process."
   ]
  },
  {
   "cell_type": "markdown",
   "id": "6b15a553-4ecd-478f-9da8-61104ab35e91",
   "metadata": {},
   "source": [
    "#### Checking for duplicate values"
   ]
  },
  {
   "cell_type": "markdown",
   "id": "07858b7f-e374-463b-928f-b17084348143",
   "metadata": {},
   "source": [
    "We will now look for the duplicate values on every field. Let's check the number of unique values."
   ]
  },
  {
   "cell_type": "code",
   "execution_count": 8,
   "id": "5f231fab-00b4-4401-a096-c90e3cc8655b",
   "metadata": {},
   "outputs": [
    {
     "name": "stdout",
     "output_type": "stream",
     "text": [
      "Unique values per column\n",
      "ride_id: 5860776\n",
      "rideable_type: 3\n",
      "started_at: 4896820\n",
      "ended_at: 4893461\n",
      "start_station_name: 1104\n",
      "start_station_id: 1062\n",
      "end_station_name: 1111\n",
      "end_station_id: 1067\n",
      "start_lat: 468844\n",
      "start_lng: 447529\n",
      "end_lat: 402338\n",
      "end_lng: 368930\n",
      "member_casual: 2\n"
     ]
    }
   ],
   "source": [
    "print(\"Unique values per column\")\n",
    "for col in df.columns:\n",
    "    print(f\"{col}: {df[col].nunique()}\")"
   ]
  },
  {
   "cell_type": "markdown",
   "id": "6b37021c-e4b7-4be6-a4e9-0146b0aba90b",
   "metadata": {},
   "source": [
    "- The primary key (ride_id) is unique for every value. \n",
    "- The \"rideable_type\" and \"member_casual\" contain only the # of values they should. However, we could convert the \"member_casual\" into a boolean since there are only two possible values.\n",
    "- There are more station names that station ids, which implies that either some station names do not contain an id or that the same id is used for different stations. Either way, we need to fix this.\n",
    "- The # of entries from end coordenates are considerably less than start coordenates. This could be right, but we should keep an eye on it."
   ]
  },
  {
   "cell_type": "markdown",
   "id": "30e0befd-0d6e-4a36-9533-da9d8f4dac5b",
   "metadata": {},
   "source": [
    "We have seen that there are multiple values of station names compared to station IDs. Let's check which ones are causing this. "
   ]
  },
  {
   "cell_type": "code",
   "execution_count": 9,
   "id": "49385d1d-342e-48bc-857e-1a2bf6dda1a5",
   "metadata": {
    "tags": []
   },
   "outputs": [
    {
     "name": "stderr",
     "output_type": "stream",
     "text": [
      "C:\\Users\\Alberto\\AppData\\Local\\Temp\\ipykernel_6620\\1927698905.py:2: SettingWithCopyWarning: \n",
      "A value is trying to be set on a copy of a slice from a DataFrame\n",
      "\n",
      "See the caveats in the documentation: https://pandas.pydata.org/pandas-docs/stable/user_guide/indexing.html#returning-a-view-versus-a-copy\n",
      "  unique_station_name.drop_duplicates(subset ='start_station_name', inplace = True)\n"
     ]
    }
   ],
   "source": [
    "unique_station_name = df[['start_station_name','start_station_id','start_lng', 'start_lat']]\n",
    "unique_station_name.drop_duplicates(subset ='start_station_name', inplace = True)"
   ]
  },
  {
   "cell_type": "code",
   "execution_count": 10,
   "id": "d4522e6f-6bb3-4413-8abe-74641f470d86",
   "metadata": {
    "tags": []
   },
   "outputs": [
    {
     "name": "stdout",
     "output_type": "stream",
     "text": [
      "Number of duplicates for start_station_id: 52\n",
      "Sample rows:\n"
     ]
    },
    {
     "data": {
      "text/html": [
       "<div>\n",
       "<style scoped>\n",
       "    .dataframe tbody tr th:only-of-type {\n",
       "        vertical-align: middle;\n",
       "    }\n",
       "\n",
       "    .dataframe tbody tr th {\n",
       "        vertical-align: top;\n",
       "    }\n",
       "\n",
       "    .dataframe thead th {\n",
       "        text-align: right;\n",
       "    }\n",
       "</style>\n",
       "<table border=\"1\" class=\"dataframe\">\n",
       "  <thead>\n",
       "    <tr style=\"text-align: right;\">\n",
       "      <th></th>\n",
       "      <th>start_station_name</th>\n",
       "      <th>start_station_id</th>\n",
       "      <th>start_lng</th>\n",
       "      <th>start_lat</th>\n",
       "    </tr>\n",
       "  </thead>\n",
       "  <tbody>\n",
       "    <tr>\n",
       "      <th>11224</th>\n",
       "      <td>Halsted St &amp; 18th St</td>\n",
       "      <td>13099</td>\n",
       "      <td>-87.646108</td>\n",
       "      <td>41.857654</td>\n",
       "    </tr>\n",
       "    <tr>\n",
       "      <th>740491</th>\n",
       "      <td>Halsted St &amp; 18th St (Temp)</td>\n",
       "      <td>13099</td>\n",
       "      <td>-87.646388</td>\n",
       "      <td>41.858371</td>\n",
       "    </tr>\n",
       "    <tr>\n",
       "      <th>730295</th>\n",
       "      <td>DuSable Lake Shore Dr &amp; Monroe St</td>\n",
       "      <td>13300</td>\n",
       "      <td>-87.616743</td>\n",
       "      <td>41.880958</td>\n",
       "    </tr>\n",
       "    <tr>\n",
       "      <th>11657</th>\n",
       "      <td>Lake Shore Dr &amp; Monroe St</td>\n",
       "      <td>13300</td>\n",
       "      <td>-87.616743</td>\n",
       "      <td>41.880958</td>\n",
       "    </tr>\n",
       "    <tr>\n",
       "      <th>1586855</th>\n",
       "      <td>Mulligan Ave &amp; Wellington Ave</td>\n",
       "      <td>351</td>\n",
       "      <td>-87.780000</td>\n",
       "      <td>41.930000</td>\n",
       "    </tr>\n",
       "    <tr>\n",
       "      <th>1632746</th>\n",
       "      <td>351</td>\n",
       "      <td>351</td>\n",
       "      <td>-87.780000</td>\n",
       "      <td>41.930000</td>\n",
       "    </tr>\n",
       "    <tr>\n",
       "      <th>3764195</th>\n",
       "      <td>N Shore Channel Trail &amp; Argyle Ave</td>\n",
       "      <td>444</td>\n",
       "      <td>-87.700000</td>\n",
       "      <td>41.970000</td>\n",
       "    </tr>\n",
       "    <tr>\n",
       "      <th>4466399</th>\n",
       "      <td>N Shore Channel Trail &amp; Argyle St</td>\n",
       "      <td>444</td>\n",
       "      <td>-87.700000</td>\n",
       "      <td>41.970000</td>\n",
       "    </tr>\n",
       "    <tr>\n",
       "      <th>5255859</th>\n",
       "      <td>Hamlin Ave &amp; Grand Ave</td>\n",
       "      <td>514</td>\n",
       "      <td>-87.720000</td>\n",
       "      <td>41.900000</td>\n",
       "    </tr>\n",
       "    <tr>\n",
       "      <th>12398</th>\n",
       "      <td>Ridge Blvd &amp; Howard St</td>\n",
       "      <td>514</td>\n",
       "      <td>-87.684520</td>\n",
       "      <td>42.019276</td>\n",
       "    </tr>\n",
       "    <tr>\n",
       "      <th>5511528</th>\n",
       "      <td>Hamlin Ave &amp; Chicago Ave</td>\n",
       "      <td>515</td>\n",
       "      <td>-87.720000</td>\n",
       "      <td>41.900000</td>\n",
       "    </tr>\n",
       "    <tr>\n",
       "      <th>14297</th>\n",
       "      <td>Paulina St &amp; Howard St</td>\n",
       "      <td>515</td>\n",
       "      <td>-87.673573</td>\n",
       "      <td>42.019159</td>\n",
       "    </tr>\n",
       "    <tr>\n",
       "      <th>5286808</th>\n",
       "      <td>Pulaski Rd &amp; Armitage Ave</td>\n",
       "      <td>517</td>\n",
       "      <td>-87.730000</td>\n",
       "      <td>41.920000</td>\n",
       "    </tr>\n",
       "    <tr>\n",
       "      <th>16316</th>\n",
       "      <td>Clark St &amp; Jarvis Ave</td>\n",
       "      <td>517</td>\n",
       "      <td>-87.675005</td>\n",
       "      <td>42.015963</td>\n",
       "    </tr>\n",
       "  </tbody>\n",
       "</table>\n",
       "</div>"
      ],
      "text/plain": [
       "                         start_station_name start_station_id  start_lng  \\\n",
       "11224                  Halsted St & 18th St            13099 -87.646108   \n",
       "740491          Halsted St & 18th St (Temp)            13099 -87.646388   \n",
       "730295    DuSable Lake Shore Dr & Monroe St            13300 -87.616743   \n",
       "11657             Lake Shore Dr & Monroe St            13300 -87.616743   \n",
       "1586855       Mulligan Ave & Wellington Ave              351 -87.780000   \n",
       "1632746                                 351              351 -87.780000   \n",
       "3764195  N Shore Channel Trail & Argyle Ave              444 -87.700000   \n",
       "4466399   N Shore Channel Trail & Argyle St              444 -87.700000   \n",
       "5255859              Hamlin Ave & Grand Ave              514 -87.720000   \n",
       "12398                Ridge Blvd & Howard St              514 -87.684520   \n",
       "5511528            Hamlin Ave & Chicago Ave              515 -87.720000   \n",
       "14297                Paulina St & Howard St              515 -87.673573   \n",
       "5286808           Pulaski Rd & Armitage Ave              517 -87.730000   \n",
       "16316                 Clark St & Jarvis Ave              517 -87.675005   \n",
       "\n",
       "         start_lat  \n",
       "11224    41.857654  \n",
       "740491   41.858371  \n",
       "730295   41.880958  \n",
       "11657    41.880958  \n",
       "1586855  41.930000  \n",
       "1632746  41.930000  \n",
       "3764195  41.970000  \n",
       "4466399  41.970000  \n",
       "5255859  41.900000  \n",
       "12398    42.019276  \n",
       "5511528  41.900000  \n",
       "14297    42.019159  \n",
       "5286808  41.920000  \n",
       "16316    42.015963  "
      ]
     },
     "execution_count": 10,
     "metadata": {},
     "output_type": "execute_result"
    }
   ],
   "source": [
    "def get_duplicates(field: str) -> pd.DataFrame:\n",
    "    # Display rows with duplicate station_ids\n",
    "    vc = unique_station_name[field].value_counts()\n",
    "    duplicate_index = vc[vc > 1].index.to_list()\n",
    "    n_duplicates = len(duplicate_index)\n",
    "    print(f\"Number of duplicates for {field}: {n_duplicates}\")\n",
    "    if n_duplicates > 0:\n",
    "        print(\"Sample rows:\")\n",
    "        mask = unique_station_name[field].isin(duplicate_index)\n",
    "        return unique_station_name[mask].sort_values(by = field).head(14)\n",
    "    return\n",
    "\n",
    "get_duplicates('start_station_id')"
   ]
  },
  {
   "cell_type": "markdown",
   "id": "a87dcc02-8390-491e-ba7a-a6d66085a01a",
   "metadata": {
    "tags": []
   },
   "source": [
    "We can see from the duplicated values, that for the same station id two names were given. \n",
    "\n",
    "- Some duplicated values come from typing errors that represent the same station. This duplicated values have very similar if not the same coordinates. \n",
    "\n",
    "- Other duplicated values come from clearly different stations. The coordinates on those values are significantly far apart. If we inspect all values, we can see that the duplicated values for station ids come from very far apart entries. This could be due to closing a station and reusing the station id when opening a new one.\n",
    "\n",
    "We could dive deeper into understanding the source of these errors. However, there are only 52 entries out of the 1105 which represents less than 5% of the values. Let's delete those values."
   ]
  },
  {
   "cell_type": "code",
   "execution_count": 11,
   "id": "efc0c64e-98dd-4568-9047-4236f7cb8811",
   "metadata": {
    "tags": []
   },
   "outputs": [],
   "source": [
    "def get_duplicates_list(field: str) -> pd.DataFrame:\n",
    "    duplicates_list =[]\n",
    "    vc = unique_station_name[field].value_counts()\n",
    "    duplicates_list = vc[vc > 1].index.to_list()\n",
    "    n_duplicates = len(duplicates_list)\n",
    "    if n_duplicates > 0:\n",
    "        return duplicates_list\n",
    "    return\n",
    "\n",
    "duplicates_list_st=get_duplicates_list('start_station_id')"
   ]
  },
  {
   "cell_type": "code",
   "execution_count": 12,
   "id": "716736c2-bd90-4e3a-8607-9270f8cc0d7a",
   "metadata": {
    "tags": []
   },
   "outputs": [
    {
     "name": "stderr",
     "output_type": "stream",
     "text": [
      "C:\\Users\\Alberto\\AppData\\Local\\Temp\\ipykernel_6620\\132075054.py:2: SettingWithCopyWarning: \n",
      "A value is trying to be set on a copy of a slice from a DataFrame\n",
      "\n",
      "See the caveats in the documentation: https://pandas.pydata.org/pandas-docs/stable/user_guide/indexing.html#returning-a-view-versus-a-copy\n",
      "  unique_station_name.drop_duplicates(subset ='end_station_name', inplace = True)\n"
     ]
    }
   ],
   "source": [
    "unique_station_name = df[['end_station_name','end_station_id','end_lng', 'end_lat']]\n",
    "unique_station_name.drop_duplicates(subset ='end_station_name', inplace = True)"
   ]
  },
  {
   "cell_type": "code",
   "execution_count": 13,
   "id": "59458367-eafc-4359-a822-b350579d5af2",
   "metadata": {
    "tags": []
   },
   "outputs": [],
   "source": [
    "duplicates_list_end = get_duplicates_list('end_station_id')"
   ]
  },
  {
   "cell_type": "code",
   "execution_count": 14,
   "id": "82dff58f-6264-412a-9ab1-47b7f2028792",
   "metadata": {
    "tags": []
   },
   "outputs": [],
   "source": [
    "duplicates_list_total = duplicates_list_st + duplicates_list_end"
   ]
  },
  {
   "cell_type": "code",
   "execution_count": 15,
   "id": "9c3a151a-5f6b-4e1d-be8a-4fc9b05fbdc4",
   "metadata": {
    "tags": []
   },
   "outputs": [],
   "source": [
    "df = df[~df['start_station_id'].isin(duplicates_list_total)]\n",
    "df = df[~df['end_station_id'].isin(duplicates_list_total)]"
   ]
  },
  {
   "cell_type": "code",
   "execution_count": 16,
   "id": "e8706c8b-4cf2-4a81-a608-6730013b2e73",
   "metadata": {
    "tags": []
   },
   "outputs": [
    {
     "name": "stdout",
     "output_type": "stream",
     "text": [
      "Unique values per column\n",
      "ride_id: 5360254\n",
      "rideable_type: 3\n",
      "started_at: 4561771\n",
      "ended_at: 4558133\n",
      "start_station_name: 995\n",
      "start_station_id: 1006\n",
      "end_station_name: 997\n",
      "end_station_id: 1007\n",
      "start_lat: 445982\n",
      "start_lng: 430175\n",
      "end_lat: 382480\n",
      "end_lng: 354783\n",
      "member_casual: 2\n"
     ]
    }
   ],
   "source": [
    "print(\"Unique values per column\")\n",
    "for col in df.columns:\n",
    "    print(f\"{col}: {df[col].nunique()}\")"
   ]
  },
  {
   "cell_type": "markdown",
   "id": "b5fa4c0d-564f-4367-aeec-64557e733b27",
   "metadata": {
    "tags": []
   },
   "source": [
    "As we can see, the total amount of entries have dropped down from 5.8 million to 5.3 million. However, we can now see that there are also duplicate station ids for the same station names. Since we do not now the actual ID for every station, let's remove those duplicate values too."
   ]
  },
  {
   "cell_type": "code",
   "execution_count": 17,
   "id": "e4f85776-f851-412b-a275-92ca6fabf76b",
   "metadata": {
    "tags": []
   },
   "outputs": [
    {
     "name": "stderr",
     "output_type": "stream",
     "text": [
      "C:\\Users\\Alberto\\AppData\\Local\\Temp\\ipykernel_6620\\2745021189.py:2: SettingWithCopyWarning: \n",
      "A value is trying to be set on a copy of a slice from a DataFrame\n",
      "\n",
      "See the caveats in the documentation: https://pandas.pydata.org/pandas-docs/stable/user_guide/indexing.html#returning-a-view-versus-a-copy\n",
      "  unique_station_id.drop_duplicates(subset ='start_station_id', inplace = True)\n"
     ]
    }
   ],
   "source": [
    "unique_station_id = df[['start_station_name','start_station_id','start_lng', 'start_lat']]\n",
    "unique_station_id.drop_duplicates(subset ='start_station_id', inplace = True)"
   ]
  },
  {
   "cell_type": "code",
   "execution_count": 18,
   "id": "266c18cb-4bf3-4ec6-ae0b-4c0d8fb3a2e8",
   "metadata": {},
   "outputs": [],
   "source": [
    "def get_duplicates_names_list(field: str) -> pd.DataFrame:\n",
    "    duplicates_list =[]\n",
    "    vc = unique_station_id[field].value_counts()\n",
    "    duplicates_list = vc[vc > 1].index.to_list()\n",
    "    n_duplicates = len(duplicates_list)\n",
    "    if n_duplicates > 0:\n",
    "        return duplicates_list\n",
    "    return\n",
    "\n",
    "duplicates_names_list_st=get_duplicates_names_list('start_station_name')"
   ]
  },
  {
   "cell_type": "code",
   "execution_count": 19,
   "id": "9098fcb9-eeb1-46ef-8e78-539814378256",
   "metadata": {
    "tags": []
   },
   "outputs": [
    {
     "name": "stderr",
     "output_type": "stream",
     "text": [
      "C:\\Users\\Alberto\\AppData\\Local\\Temp\\ipykernel_6620\\2610709681.py:2: SettingWithCopyWarning: \n",
      "A value is trying to be set on a copy of a slice from a DataFrame\n",
      "\n",
      "See the caveats in the documentation: https://pandas.pydata.org/pandas-docs/stable/user_guide/indexing.html#returning-a-view-versus-a-copy\n",
      "  unique_station_id.drop_duplicates(subset ='end_station_id', inplace = True)\n"
     ]
    }
   ],
   "source": [
    "unique_station_id = df[['end_station_name','end_station_id','end_lng', 'end_lat']]\n",
    "unique_station_id.drop_duplicates(subset ='end_station_id', inplace = True)\n",
    "duplicates_names_list_end=get_duplicates_names_list('end_station_name')"
   ]
  },
  {
   "cell_type": "code",
   "execution_count": 20,
   "id": "e08b0363-4dcb-455b-a075-02c2cc31654c",
   "metadata": {},
   "outputs": [],
   "source": [
    "duplicates_names_list = duplicates_names_list_end + duplicates_names_list_st"
   ]
  },
  {
   "cell_type": "code",
   "execution_count": 21,
   "id": "7739b1d0-7da3-4517-a250-e32a7e8dbf80",
   "metadata": {},
   "outputs": [],
   "source": [
    "df = df[~df['start_station_name'].isin(duplicates_names_list)]\n",
    "df = df[~df['end_station_name'].isin(duplicates_names_list)]"
   ]
  },
  {
   "cell_type": "code",
   "execution_count": 22,
   "id": "80fbbba8-0d07-44fb-b5ee-4b70d4cbfcd8",
   "metadata": {},
   "outputs": [
    {
     "name": "stdout",
     "output_type": "stream",
     "text": [
      "Unique values per column\n",
      "ride_id: 5306349\n",
      "rideable_type: 3\n",
      "started_at: 4523823\n",
      "ended_at: 4520158\n",
      "start_station_name: 983\n",
      "start_station_id: 983\n",
      "end_station_name: 986\n",
      "end_station_id: 986\n",
      "start_lat: 441322\n",
      "start_lng: 425449\n",
      "end_lat: 378709\n",
      "end_lng: 351251\n",
      "member_casual: 2\n"
     ]
    }
   ],
   "source": [
    "print(\"Unique values per column\")\n",
    "for col in df.columns:\n",
    "    print(f\"{col}: {df[col].nunique()}\")"
   ]
  },
  {
   "cell_type": "markdown",
   "id": "5252077f-9b61-4688-9b38-dcff7272a25b",
   "metadata": {},
   "source": [
    "We now have a one to one relationship for station names and station ids. The total amount of entries have dropped down from 5.8 million to 5.3 million, yet this should be more than enough to find the relationships and trends.\n",
    "Our dataset is now coherent."
   ]
  },
  {
   "cell_type": "markdown",
   "id": "81b24a75-e1f1-4542-8ed2-fc7749e0b86c",
   "metadata": {
    "tags": []
   },
   "source": [
    "#### Check for valid coordenates"
   ]
  },
  {
   "cell_type": "markdown",
   "id": "a6b7e6bd-751e-41f3-b974-21083da6f2b9",
   "metadata": {
    "tags": []
   },
   "source": [
    "We will look at the points where bikes have been picked up and dropped of comparing to the map of Chicago."
   ]
  },
  {
   "cell_type": "code",
   "execution_count": 23,
   "id": "bc620a8a-e980-4527-922f-70d4f36b49ac",
   "metadata": {
    "tags": []
   },
   "outputs": [
    {
     "data": {
      "image/png": "[encoded data removed]",
      "text/plain": [
       "<Figure size 1080x1080 with 2 Axes>"
      ]
     },
     "metadata": {
      "needs_background": "light"
     },
     "output_type": "display_data"
    }
   ],
   "source": [
    "def validate_coordinates() -> None:\n",
    "    start_c = df[['start_lng','start_lat']]\n",
    "    end_c = df[['end_lng','end_lat']]\n",
    "    geometry_start = [Point(xy) for xy in zip(start_c['start_lng'], start_c['start_lat'])]\n",
    "    geometry_end = [Point(xy) for xy in zip(end_c['end_lng'], end_c['end_lat'])]\n",
    "    gdf1 = GeoDataFrame(start_c, geometry = geometry_start)\n",
    "    gdf2 = GeoDataFrame(end_c, geometry = geometry_end)\n",
    "               \n",
    "    fig, (ax1, ax2) = plt.subplots(1,2, figsize = (15,15))\n",
    "        \n",
    "    chicago = gpd.read_file('geo_export_15deee7d-207e-4de1-9ee3-f83772a73e31.shp')\n",
    "    \n",
    "    chicago.plot(ax = ax1, alpha = 0.5, color = 'grey')\n",
    "    gdf1.plot(ax = ax1, markersize = 3, color = 'blue', marker = 'o', label = 'bike trips starting points')\n",
    "    chicago.plot(ax = ax2, alpha = 0.2, color = 'grey')\n",
    "    gdf2.plot(ax = ax2, markersize = 3, color = 'red', marker = 'o', label = 'bike trips ending points')\n",
    "    \n",
    "    ax1.set(xlabel = 'longitude', ylabel ='latitude')\n",
    "    ax1.set_title('Locations for bike pick-up')\n",
    "    ax2.set(xlabel = 'longitude', ylabel ='latitude')\n",
    "    ax2.set_title('Locations for bike dropped-off')\n",
    "    ax1.legend(loc = 'upper right')\n",
    "    ax2.legend(loc = 'upper right')\n",
    "    \n",
    "\n",
    "validate_coordinates()   \n",
    "    "
   ]
  },
  {
   "cell_type": "markdown",
   "id": "ce0999dd-8ed5-4dae-93ef-25f7a8c0416e",
   "metadata": {
    "tags": []
   },
   "source": [
    "From this representation we can already seen there is at least two points that are clearly out of boundaries. Let's identify those points. \n"
   ]
  },
  {
   "cell_type": "code",
   "execution_count": 24,
   "id": "1452add2-f3d8-4bee-b088-fce5a0e86195",
   "metadata": {
    "tags": []
   },
   "outputs": [
    {
     "data": {
      "text/html": [
       "<div>\n",
       "<style scoped>\n",
       "    .dataframe tbody tr th:only-of-type {\n",
       "        vertical-align: middle;\n",
       "    }\n",
       "\n",
       "    .dataframe tbody tr th {\n",
       "        vertical-align: top;\n",
       "    }\n",
       "\n",
       "    .dataframe thead th {\n",
       "        text-align: right;\n",
       "    }\n",
       "</style>\n",
       "<table border=\"1\" class=\"dataframe\">\n",
       "  <thead>\n",
       "    <tr style=\"text-align: right;\">\n",
       "      <th></th>\n",
       "      <th>start_lat</th>\n",
       "      <th>start_lng</th>\n",
       "      <th>end_lat</th>\n",
       "      <th>end_lng</th>\n",
       "    </tr>\n",
       "  </thead>\n",
       "  <tbody>\n",
       "    <tr>\n",
       "      <th>count</th>\n",
       "      <td>5306324.000</td>\n",
       "      <td>5306324.000</td>\n",
       "      <td>5301747.000</td>\n",
       "      <td>5301747.000</td>\n",
       "    </tr>\n",
       "    <tr>\n",
       "      <th>mean</th>\n",
       "      <td>41.899</td>\n",
       "      <td>-87.647</td>\n",
       "      <td>41.899</td>\n",
       "      <td>-87.648</td>\n",
       "    </tr>\n",
       "    <tr>\n",
       "      <th>std</th>\n",
       "      <td>0.047</td>\n",
       "      <td>0.031</td>\n",
       "      <td>0.047</td>\n",
       "      <td>0.031</td>\n",
       "    </tr>\n",
       "    <tr>\n",
       "      <th>min</th>\n",
       "      <td>41.640</td>\n",
       "      <td>-87.840</td>\n",
       "      <td>41.390</td>\n",
       "      <td>-88.970</td>\n",
       "    </tr>\n",
       "    <tr>\n",
       "      <th>25%</th>\n",
       "      <td>41.881</td>\n",
       "      <td>-87.662</td>\n",
       "      <td>41.881</td>\n",
       "      <td>-87.662</td>\n",
       "    </tr>\n",
       "    <tr>\n",
       "      <th>50%</th>\n",
       "      <td>41.897</td>\n",
       "      <td>-87.644</td>\n",
       "      <td>41.898</td>\n",
       "      <td>-87.644</td>\n",
       "    </tr>\n",
       "    <tr>\n",
       "      <th>75%</th>\n",
       "      <td>41.926</td>\n",
       "      <td>-87.629</td>\n",
       "      <td>41.929</td>\n",
       "      <td>-87.630</td>\n",
       "    </tr>\n",
       "    <tr>\n",
       "      <th>max</th>\n",
       "      <td>45.635</td>\n",
       "      <td>-73.796</td>\n",
       "      <td>42.168</td>\n",
       "      <td>-87.490</td>\n",
       "    </tr>\n",
       "  </tbody>\n",
       "</table>\n",
       "</div>"
      ],
      "text/plain": [
       "         start_lat    start_lng      end_lat      end_lng\n",
       "count  5306324.000  5306324.000  5301747.000  5301747.000\n",
       "mean        41.899      -87.647       41.899      -87.648\n",
       "std          0.047        0.031        0.047        0.031\n",
       "min         41.640      -87.840       41.390      -88.970\n",
       "25%         41.881      -87.662       41.881      -87.662\n",
       "50%         41.897      -87.644       41.898      -87.644\n",
       "75%         41.926      -87.629       41.929      -87.630\n",
       "max         45.635      -73.796       42.168      -87.490"
      ]
     },
     "execution_count": 24,
     "metadata": {},
     "output_type": "execute_result"
    }
   ],
   "source": [
    "# Since only the coordinates are numeric values, let's take a look at some statistics:\n",
    "df.describe().apply(lambda s: s.apply('{0:.3f}'.format))"
   ]
  },
  {
   "cell_type": "code",
   "execution_count": 25,
   "id": "eb73c9b5-9ec9-4c83-ba16-214a44d4c8ac",
   "metadata": {
    "tags": []
   },
   "outputs": [
    {
     "data": {
      "text/html": [
       "<div>\n",
       "<style scoped>\n",
       "    .dataframe tbody tr th:only-of-type {\n",
       "        vertical-align: middle;\n",
       "    }\n",
       "\n",
       "    .dataframe tbody tr th {\n",
       "        vertical-align: top;\n",
       "    }\n",
       "\n",
       "    .dataframe thead th {\n",
       "        text-align: right;\n",
       "    }\n",
       "</style>\n",
       "<table border=\"1\" class=\"dataframe\">\n",
       "  <thead>\n",
       "    <tr style=\"text-align: right;\">\n",
       "      <th></th>\n",
       "      <th>ride_id</th>\n",
       "      <th>rideable_type</th>\n",
       "      <th>started_at</th>\n",
       "      <th>ended_at</th>\n",
       "      <th>start_station_name</th>\n",
       "      <th>start_station_id</th>\n",
       "      <th>end_station_name</th>\n",
       "      <th>end_station_id</th>\n",
       "      <th>start_lat</th>\n",
       "      <th>start_lng</th>\n",
       "      <th>end_lat</th>\n",
       "      <th>end_lng</th>\n",
       "      <th>member_casual</th>\n",
       "    </tr>\n",
       "  </thead>\n",
       "  <tbody>\n",
       "    <tr>\n",
       "      <th>4363009</th>\n",
       "      <td>3327172413547F64</td>\n",
       "      <td>electric_bike</td>\n",
       "      <td>2022-01-14 11:13:15</td>\n",
       "      <td>2022-01-14 11:15:50</td>\n",
       "      <td>Pawel Bialowas - Test- PBSC charging station</td>\n",
       "      <td>Pawel Bialowas - Test- PBSC charging station</td>\n",
       "      <td>Pawel Bialowas - Test- PBSC charging station</td>\n",
       "      <td>Pawel Bialowas - Test- PBSC charging station</td>\n",
       "      <td>45.635034</td>\n",
       "      <td>-73.796477</td>\n",
       "      <td>41.8646</td>\n",
       "      <td>-87.681</td>\n",
       "      <td>casual</td>\n",
       "    </tr>\n",
       "    <tr>\n",
       "      <th>3599948</th>\n",
       "      <td>F1E10B3A48E39AF2</td>\n",
       "      <td>electric_bike</td>\n",
       "      <td>2021-10-10 08:57:17</td>\n",
       "      <td>2021-10-10 09:08:14</td>\n",
       "      <td>NaN</td>\n",
       "      <td>NaN</td>\n",
       "      <td>NaN</td>\n",
       "      <td>NaN</td>\n",
       "      <td>42.070000</td>\n",
       "      <td>-87.700000</td>\n",
       "      <td>42.0700</td>\n",
       "      <td>-87.680</td>\n",
       "      <td>member</td>\n",
       "    </tr>\n",
       "    <tr>\n",
       "      <th>3109855</th>\n",
       "      <td>C8FC9870235555FE</td>\n",
       "      <td>electric_bike</td>\n",
       "      <td>2021-09-11 12:14:33</td>\n",
       "      <td>2021-09-11 12:21:57</td>\n",
       "      <td>NaN</td>\n",
       "      <td>NaN</td>\n",
       "      <td>NaN</td>\n",
       "      <td>NaN</td>\n",
       "      <td>42.070000</td>\n",
       "      <td>-87.700000</td>\n",
       "      <td>42.0800</td>\n",
       "      <td>-87.720</td>\n",
       "      <td>casual</td>\n",
       "    </tr>\n",
       "    <tr>\n",
       "      <th>2169045</th>\n",
       "      <td>1608C43417B469AD</td>\n",
       "      <td>electric_bike</td>\n",
       "      <td>2021-08-01 15:35:29</td>\n",
       "      <td>2021-08-01 15:41:13</td>\n",
       "      <td>NaN</td>\n",
       "      <td>NaN</td>\n",
       "      <td>NaN</td>\n",
       "      <td>NaN</td>\n",
       "      <td>42.070000</td>\n",
       "      <td>-87.730000</td>\n",
       "      <td>42.0600</td>\n",
       "      <td>-87.730</td>\n",
       "      <td>casual</td>\n",
       "    </tr>\n",
       "    <tr>\n",
       "      <th>3596337</th>\n",
       "      <td>7B0B20824FA28B53</td>\n",
       "      <td>electric_bike</td>\n",
       "      <td>2021-10-02 14:12:23</td>\n",
       "      <td>2021-10-02 14:31:38</td>\n",
       "      <td>NaN</td>\n",
       "      <td>NaN</td>\n",
       "      <td>NaN</td>\n",
       "      <td>NaN</td>\n",
       "      <td>42.070000</td>\n",
       "      <td>-87.680000</td>\n",
       "      <td>42.0500</td>\n",
       "      <td>-87.680</td>\n",
       "      <td>member</td>\n",
       "    </tr>\n",
       "  </tbody>\n",
       "</table>\n",
       "</div>"
      ],
      "text/plain": [
       "                  ride_id  rideable_type          started_at  \\\n",
       "4363009  3327172413547F64  electric_bike 2022-01-14 11:13:15   \n",
       "3599948  F1E10B3A48E39AF2  electric_bike 2021-10-10 08:57:17   \n",
       "3109855  C8FC9870235555FE  electric_bike 2021-09-11 12:14:33   \n",
       "2169045  1608C43417B469AD  electric_bike 2021-08-01 15:35:29   \n",
       "3596337  7B0B20824FA28B53  electric_bike 2021-10-02 14:12:23   \n",
       "\n",
       "                   ended_at                            start_station_name  \\\n",
       "4363009 2022-01-14 11:15:50  Pawel Bialowas - Test- PBSC charging station   \n",
       "3599948 2021-10-10 09:08:14                                           NaN   \n",
       "3109855 2021-09-11 12:21:57                                           NaN   \n",
       "2169045 2021-08-01 15:41:13                                           NaN   \n",
       "3596337 2021-10-02 14:31:38                                           NaN   \n",
       "\n",
       "                                     start_station_id  \\\n",
       "4363009  Pawel Bialowas - Test- PBSC charging station   \n",
       "3599948                                           NaN   \n",
       "3109855                                           NaN   \n",
       "2169045                                           NaN   \n",
       "3596337                                           NaN   \n",
       "\n",
       "                                     end_station_name  \\\n",
       "4363009  Pawel Bialowas - Test- PBSC charging station   \n",
       "3599948                                           NaN   \n",
       "3109855                                           NaN   \n",
       "2169045                                           NaN   \n",
       "3596337                                           NaN   \n",
       "\n",
       "                                       end_station_id  start_lat  start_lng  \\\n",
       "4363009  Pawel Bialowas - Test- PBSC charging station  45.635034 -73.796477   \n",
       "3599948                                           NaN  42.070000 -87.700000   \n",
       "3109855                                           NaN  42.070000 -87.700000   \n",
       "2169045                                           NaN  42.070000 -87.730000   \n",
       "3596337                                           NaN  42.070000 -87.680000   \n",
       "\n",
       "         end_lat  end_lng member_casual  \n",
       "4363009  41.8646  -87.681        casual  \n",
       "3599948  42.0700  -87.680        member  \n",
       "3109855  42.0800  -87.720        casual  \n",
       "2169045  42.0600  -87.730        casual  \n",
       "3596337  42.0500  -87.680        member  "
      ]
     },
     "execution_count": 25,
     "metadata": {},
     "output_type": "execute_result"
    }
   ],
   "source": [
    "latitude_df = df.sort_values(by='start_lat', ascending=False)\n",
    "latitude_df.head()"
   ]
  },
  {
   "cell_type": "code",
   "execution_count": 26,
   "id": "691eda49-2e85-4550-963c-ceba37966696",
   "metadata": {
    "tags": []
   },
   "outputs": [
    {
     "data": {
      "text/html": [
       "<div>\n",
       "<style scoped>\n",
       "    .dataframe tbody tr th:only-of-type {\n",
       "        vertical-align: middle;\n",
       "    }\n",
       "\n",
       "    .dataframe tbody tr th {\n",
       "        vertical-align: top;\n",
       "    }\n",
       "\n",
       "    .dataframe thead th {\n",
       "        text-align: right;\n",
       "    }\n",
       "</style>\n",
       "<table border=\"1\" class=\"dataframe\">\n",
       "  <thead>\n",
       "    <tr style=\"text-align: right;\">\n",
       "      <th></th>\n",
       "      <th>ride_id</th>\n",
       "      <th>rideable_type</th>\n",
       "      <th>started_at</th>\n",
       "      <th>ended_at</th>\n",
       "      <th>start_station_name</th>\n",
       "      <th>start_station_id</th>\n",
       "      <th>end_station_name</th>\n",
       "      <th>end_station_id</th>\n",
       "      <th>start_lat</th>\n",
       "      <th>start_lng</th>\n",
       "      <th>end_lat</th>\n",
       "      <th>end_lng</th>\n",
       "      <th>member_casual</th>\n",
       "    </tr>\n",
       "  </thead>\n",
       "  <tbody>\n",
       "    <tr>\n",
       "      <th>4046035</th>\n",
       "      <td>9F438AD0AB380E3F</td>\n",
       "      <td>electric_bike</td>\n",
       "      <td>2021-11-09 06:47:52</td>\n",
       "      <td>2021-11-09 07:42:56</td>\n",
       "      <td>Narragansett &amp; McLean</td>\n",
       "      <td>309</td>\n",
       "      <td>NaN</td>\n",
       "      <td>NaN</td>\n",
       "      <td>41.920000</td>\n",
       "      <td>-87.790000</td>\n",
       "      <td>41.39</td>\n",
       "      <td>-88.97</td>\n",
       "      <td>casual</td>\n",
       "    </tr>\n",
       "    <tr>\n",
       "      <th>5813899</th>\n",
       "      <td>353B37694B30396F</td>\n",
       "      <td>electric_bike</td>\n",
       "      <td>2022-05-19 10:09:39</td>\n",
       "      <td>2022-05-19 13:03:55</td>\n",
       "      <td>Dearborn St &amp; Adams St</td>\n",
       "      <td>TA1305000005</td>\n",
       "      <td>NaN</td>\n",
       "      <td>NaN</td>\n",
       "      <td>41.878811</td>\n",
       "      <td>-87.629584</td>\n",
       "      <td>41.87</td>\n",
       "      <td>-88.14</td>\n",
       "      <td>member</td>\n",
       "    </tr>\n",
       "    <tr>\n",
       "      <th>4063374</th>\n",
       "      <td>7C7658F5014F953C</td>\n",
       "      <td>electric_bike</td>\n",
       "      <td>2021-11-19 19:34:15</td>\n",
       "      <td>2021-11-19 21:07:38</td>\n",
       "      <td>NaN</td>\n",
       "      <td>NaN</td>\n",
       "      <td>NaN</td>\n",
       "      <td>NaN</td>\n",
       "      <td>41.910000</td>\n",
       "      <td>-87.750000</td>\n",
       "      <td>41.90</td>\n",
       "      <td>-87.98</td>\n",
       "      <td>casual</td>\n",
       "    </tr>\n",
       "    <tr>\n",
       "      <th>4099108</th>\n",
       "      <td>6B23D945AFAC7B24</td>\n",
       "      <td>electric_bike</td>\n",
       "      <td>2021-11-15 12:27:52</td>\n",
       "      <td>2021-11-15 13:59:43</td>\n",
       "      <td>NaN</td>\n",
       "      <td>NaN</td>\n",
       "      <td>NaN</td>\n",
       "      <td>NaN</td>\n",
       "      <td>41.920000</td>\n",
       "      <td>-87.750000</td>\n",
       "      <td>41.90</td>\n",
       "      <td>-87.98</td>\n",
       "      <td>casual</td>\n",
       "    </tr>\n",
       "    <tr>\n",
       "      <th>3613359</th>\n",
       "      <td>95AA4A18E0B47FCF</td>\n",
       "      <td>electric_bike</td>\n",
       "      <td>2021-10-02 19:35:18</td>\n",
       "      <td>2021-10-02 21:36:57</td>\n",
       "      <td>NaN</td>\n",
       "      <td>NaN</td>\n",
       "      <td>NaN</td>\n",
       "      <td>NaN</td>\n",
       "      <td>41.930000</td>\n",
       "      <td>-87.670000</td>\n",
       "      <td>41.93</td>\n",
       "      <td>-87.96</td>\n",
       "      <td>member</td>\n",
       "    </tr>\n",
       "  </tbody>\n",
       "</table>\n",
       "</div>"
      ],
      "text/plain": [
       "                  ride_id  rideable_type          started_at  \\\n",
       "4046035  9F438AD0AB380E3F  electric_bike 2021-11-09 06:47:52   \n",
       "5813899  353B37694B30396F  electric_bike 2022-05-19 10:09:39   \n",
       "4063374  7C7658F5014F953C  electric_bike 2021-11-19 19:34:15   \n",
       "4099108  6B23D945AFAC7B24  electric_bike 2021-11-15 12:27:52   \n",
       "3613359  95AA4A18E0B47FCF  electric_bike 2021-10-02 19:35:18   \n",
       "\n",
       "                   ended_at      start_station_name start_station_id  \\\n",
       "4046035 2021-11-09 07:42:56   Narragansett & McLean              309   \n",
       "5813899 2022-05-19 13:03:55  Dearborn St & Adams St     TA1305000005   \n",
       "4063374 2021-11-19 21:07:38                     NaN              NaN   \n",
       "4099108 2021-11-15 13:59:43                     NaN              NaN   \n",
       "3613359 2021-10-02 21:36:57                     NaN              NaN   \n",
       "\n",
       "        end_station_name end_station_id  start_lat  start_lng  end_lat  \\\n",
       "4046035              NaN            NaN  41.920000 -87.790000    41.39   \n",
       "5813899              NaN            NaN  41.878811 -87.629584    41.87   \n",
       "4063374              NaN            NaN  41.910000 -87.750000    41.90   \n",
       "4099108              NaN            NaN  41.920000 -87.750000    41.90   \n",
       "3613359              NaN            NaN  41.930000 -87.670000    41.93   \n",
       "\n",
       "         end_lng member_casual  \n",
       "4046035   -88.97        casual  \n",
       "5813899   -88.14        member  \n",
       "4063374   -87.98        casual  \n",
       "4099108   -87.98        casual  \n",
       "3613359   -87.96        member  "
      ]
     },
     "execution_count": 26,
     "metadata": {},
     "output_type": "execute_result"
    }
   ],
   "source": [
    "longitude_df = df.sort_values(by='end_lng')\n",
    "longitude_df.head()"
   ]
  },
  {
   "cell_type": "markdown",
   "id": "ebb2235f-689e-477c-8b17-07a4e0e73b3f",
   "metadata": {
    "tags": []
   },
   "source": [
    "Since there are only two points let's get rid of them already."
   ]
  },
  {
   "cell_type": "code",
   "execution_count": 27,
   "id": "c048d9b1-a538-4df3-905d-d7143469b193",
   "metadata": {
    "tags": []
   },
   "outputs": [],
   "source": [
    "df = df[df['start_lng']<-87]\n",
    "df = df[df['end_lng']>-88]"
   ]
  },
  {
   "cell_type": "markdown",
   "id": "3d3b23b9-edc9-422a-837a-42332a2601b6",
   "metadata": {
    "tags": []
   },
   "source": [
    "Now we have got rid of those points that are clearly out of boundaries. Please note, that with this statement we also got rid of those values with Null values for coordinates. We want to do this since the bikes are geotracked and if there is not a value, the ride would not be representative and we do not want this in our analysis."
   ]
  },
  {
   "cell_type": "code",
   "execution_count": 28,
   "id": "99ffd1d8-b7f6-4d4a-9fd4-aa929b94ee6f",
   "metadata": {
    "tags": []
   },
   "outputs": [
    {
     "data": {
      "image/png": "[encoded data removed]",
      "text/plain": [
       "<Figure size 1080x1080 with 2 Axes>"
      ]
     },
     "metadata": {
      "needs_background": "light"
     },
     "output_type": "display_data"
    }
   ],
   "source": [
    "validate_coordinates()"
   ]
  },
  {
   "cell_type": "markdown",
   "id": "bdb8dd4e-82d3-4080-8240-f8df5601a523",
   "metadata": {
    "tags": []
   },
   "source": [
    "This looks a lot better now. We can already see some tendencies here, as the bikes seem to be picked up from actual docking stations in Chicago, and they have sometimes being dropped off outside the limits of Chicago yet still close. We will work with this data."
   ]
  },
  {
   "cell_type": "markdown",
   "id": "bf0459d0-892b-4213-a14c-b9e7af821362",
   "metadata": {
    "tags": []
   },
   "source": [
    "#### Checking for inconsistent data"
   ]
  },
  {
   "cell_type": "markdown",
   "id": "34c1891e-d42a-4ee5-8977-de7883ccfb52",
   "metadata": {
    "tags": []
   },
   "source": [
    "Every row represents one ride, and the only source for inconsistent data would be the time of the ride. Let's add another column to our dataframe with the trip duration"
   ]
  },
  {
   "cell_type": "code",
   "execution_count": 29,
   "id": "ee0566a1-99d9-4c96-840b-414deaad8ac8",
   "metadata": {
    "tags": []
   },
   "outputs": [
    {
     "data": {
      "text/html": [
       "<div>\n",
       "<style scoped>\n",
       "    .dataframe tbody tr th:only-of-type {\n",
       "        vertical-align: middle;\n",
       "    }\n",
       "\n",
       "    .dataframe tbody tr th {\n",
       "        vertical-align: top;\n",
       "    }\n",
       "\n",
       "    .dataframe thead th {\n",
       "        text-align: right;\n",
       "    }\n",
       "</style>\n",
       "<table border=\"1\" class=\"dataframe\">\n",
       "  <thead>\n",
       "    <tr style=\"text-align: right;\">\n",
       "      <th></th>\n",
       "      <th>ride_id</th>\n",
       "      <th>rideable_type</th>\n",
       "      <th>started_at</th>\n",
       "      <th>ended_at</th>\n",
       "      <th>start_station_name</th>\n",
       "      <th>start_station_id</th>\n",
       "      <th>end_station_name</th>\n",
       "      <th>end_station_id</th>\n",
       "      <th>start_lat</th>\n",
       "      <th>start_lng</th>\n",
       "      <th>end_lat</th>\n",
       "      <th>end_lng</th>\n",
       "      <th>member_casual</th>\n",
       "      <th>trip_duration</th>\n",
       "    </tr>\n",
       "  </thead>\n",
       "  <tbody>\n",
       "    <tr>\n",
       "      <th>3800451</th>\n",
       "      <td>7CA158F5F050156E</td>\n",
       "      <td>electric_bike</td>\n",
       "      <td>2021-11-07 01:58:08</td>\n",
       "      <td>2021-11-07 01:00:06</td>\n",
       "      <td>Halsted St &amp; Dickens Ave</td>\n",
       "      <td>13192</td>\n",
       "      <td>NaN</td>\n",
       "      <td>NaN</td>\n",
       "      <td>41.920020</td>\n",
       "      <td>-87.648990</td>\n",
       "      <td>41.930000</td>\n",
       "      <td>-87.650000</td>\n",
       "      <td>casual</td>\n",
       "      <td>-1 days +23:01:58</td>\n",
       "    </tr>\n",
       "    <tr>\n",
       "      <th>3885821</th>\n",
       "      <td>FD8AF7324ABAE9DA</td>\n",
       "      <td>electric_bike</td>\n",
       "      <td>2021-11-07 01:56:51</td>\n",
       "      <td>2021-11-07 01:00:57</td>\n",
       "      <td>Clark St &amp; North Ave</td>\n",
       "      <td>13128</td>\n",
       "      <td>Larrabee St &amp; Webster Ave</td>\n",
       "      <td>13193</td>\n",
       "      <td>41.911738</td>\n",
       "      <td>-87.632145</td>\n",
       "      <td>41.921762</td>\n",
       "      <td>-87.644034</td>\n",
       "      <td>casual</td>\n",
       "      <td>-1 days +23:04:06</td>\n",
       "    </tr>\n",
       "    <tr>\n",
       "      <th>3869585</th>\n",
       "      <td>508B09A5FB0737DC</td>\n",
       "      <td>classic_bike</td>\n",
       "      <td>2021-11-07 01:54:50</td>\n",
       "      <td>2021-11-07 01:00:45</td>\n",
       "      <td>Sedgwick St &amp; Webster Ave</td>\n",
       "      <td>13191</td>\n",
       "      <td>Sedgwick St &amp; North Ave</td>\n",
       "      <td>TA1307000038</td>\n",
       "      <td>41.922167</td>\n",
       "      <td>-87.638888</td>\n",
       "      <td>41.911386</td>\n",
       "      <td>-87.638677</td>\n",
       "      <td>member</td>\n",
       "      <td>-1 days +23:05:55</td>\n",
       "    </tr>\n",
       "    <tr>\n",
       "      <th>4004550</th>\n",
       "      <td>6F9E76F5EDAAC1B8</td>\n",
       "      <td>electric_bike</td>\n",
       "      <td>2021-11-07 01:55:42</td>\n",
       "      <td>2021-11-07 01:01:55</td>\n",
       "      <td>Milwaukee Ave &amp; Wabansia Ave</td>\n",
       "      <td>13243</td>\n",
       "      <td>Western Ave &amp; Division St</td>\n",
       "      <td>13241</td>\n",
       "      <td>41.912580</td>\n",
       "      <td>-87.681424</td>\n",
       "      <td>41.902906</td>\n",
       "      <td>-87.687367</td>\n",
       "      <td>member</td>\n",
       "      <td>-1 days +23:06:13</td>\n",
       "    </tr>\n",
       "    <tr>\n",
       "      <th>4026403</th>\n",
       "      <td>7AECC76D1562B51C</td>\n",
       "      <td>classic_bike</td>\n",
       "      <td>2021-11-07 01:54:58</td>\n",
       "      <td>2021-11-07 01:01:29</td>\n",
       "      <td>Sheffield Ave &amp; Wrightwood Ave</td>\n",
       "      <td>TA1309000023</td>\n",
       "      <td>Southport Ave &amp; Wellington Ave</td>\n",
       "      <td>TA1307000006</td>\n",
       "      <td>41.928712</td>\n",
       "      <td>-87.653833</td>\n",
       "      <td>41.935733</td>\n",
       "      <td>-87.663576</td>\n",
       "      <td>casual</td>\n",
       "      <td>-1 days +23:06:31</td>\n",
       "    </tr>\n",
       "  </tbody>\n",
       "</table>\n",
       "</div>"
      ],
      "text/plain": [
       "                  ride_id  rideable_type          started_at  \\\n",
       "3800451  7CA158F5F050156E  electric_bike 2021-11-07 01:58:08   \n",
       "3885821  FD8AF7324ABAE9DA  electric_bike 2021-11-07 01:56:51   \n",
       "3869585  508B09A5FB0737DC   classic_bike 2021-11-07 01:54:50   \n",
       "4004550  6F9E76F5EDAAC1B8  electric_bike 2021-11-07 01:55:42   \n",
       "4026403  7AECC76D1562B51C   classic_bike 2021-11-07 01:54:58   \n",
       "\n",
       "                   ended_at              start_station_name start_station_id  \\\n",
       "3800451 2021-11-07 01:00:06        Halsted St & Dickens Ave            13192   \n",
       "3885821 2021-11-07 01:00:57            Clark St & North Ave            13128   \n",
       "3869585 2021-11-07 01:00:45       Sedgwick St & Webster Ave            13191   \n",
       "4004550 2021-11-07 01:01:55    Milwaukee Ave & Wabansia Ave            13243   \n",
       "4026403 2021-11-07 01:01:29  Sheffield Ave & Wrightwood Ave     TA1309000023   \n",
       "\n",
       "                       end_station_name end_station_id  start_lat  start_lng  \\\n",
       "3800451                             NaN            NaN  41.920020 -87.648990   \n",
       "3885821       Larrabee St & Webster Ave          13193  41.911738 -87.632145   \n",
       "3869585         Sedgwick St & North Ave   TA1307000038  41.922167 -87.638888   \n",
       "4004550       Western Ave & Division St          13241  41.912580 -87.681424   \n",
       "4026403  Southport Ave & Wellington Ave   TA1307000006  41.928712 -87.653833   \n",
       "\n",
       "           end_lat    end_lng member_casual     trip_duration  \n",
       "3800451  41.930000 -87.650000        casual -1 days +23:01:58  \n",
       "3885821  41.921762 -87.644034        casual -1 days +23:04:06  \n",
       "3869585  41.911386 -87.638677        member -1 days +23:05:55  \n",
       "4004550  41.902906 -87.687367        member -1 days +23:06:13  \n",
       "4026403  41.935733 -87.663576        casual -1 days +23:06:31  "
      ]
     },
     "execution_count": 29,
     "metadata": {},
     "output_type": "execute_result"
    }
   ],
   "source": [
    "df['trip_duration'] = df['ended_at'] - df['started_at']\n",
    "sorted_td = df.sort_values(by='trip_duration')\n",
    "rsorted_td = df.sort_values(by='trip_duration', ascending = False)\n",
    "sorted_td.head()"
   ]
  },
  {
   "cell_type": "code",
   "execution_count": 30,
   "id": "db32318a-48ae-4c8d-a06c-3244251ae260",
   "metadata": {
    "tags": []
   },
   "outputs": [
    {
     "data": {
      "text/html": [
       "<div>\n",
       "<style scoped>\n",
       "    .dataframe tbody tr th:only-of-type {\n",
       "        vertical-align: middle;\n",
       "    }\n",
       "\n",
       "    .dataframe tbody tr th {\n",
       "        vertical-align: top;\n",
       "    }\n",
       "\n",
       "    .dataframe thead th {\n",
       "        text-align: right;\n",
       "    }\n",
       "</style>\n",
       "<table border=\"1\" class=\"dataframe\">\n",
       "  <thead>\n",
       "    <tr style=\"text-align: right;\">\n",
       "      <th></th>\n",
       "      <th>ride_id</th>\n",
       "      <th>rideable_type</th>\n",
       "      <th>started_at</th>\n",
       "      <th>ended_at</th>\n",
       "      <th>start_station_name</th>\n",
       "      <th>start_station_id</th>\n",
       "      <th>end_station_name</th>\n",
       "      <th>end_station_id</th>\n",
       "      <th>start_lat</th>\n",
       "      <th>start_lng</th>\n",
       "      <th>end_lat</th>\n",
       "      <th>end_lng</th>\n",
       "      <th>member_casual</th>\n",
       "      <th>trip_duration</th>\n",
       "    </tr>\n",
       "  </thead>\n",
       "  <tbody>\n",
       "    <tr>\n",
       "      <th>595683</th>\n",
       "      <td>F043F0F6A1AA4F85</td>\n",
       "      <td>docked_bike</td>\n",
       "      <td>2021-06-05 02:27:26</td>\n",
       "      <td>2021-07-13 22:51:35</td>\n",
       "      <td>Michigan Ave &amp; Lake St</td>\n",
       "      <td>TA1305000011</td>\n",
       "      <td>Malcolm X College Vaccination Site</td>\n",
       "      <td>631</td>\n",
       "      <td>41.886024</td>\n",
       "      <td>-87.624117</td>\n",
       "      <td>41.877618</td>\n",
       "      <td>-87.673895</td>\n",
       "      <td>casual</td>\n",
       "      <td>38 days 20:24:09</td>\n",
       "    </tr>\n",
       "    <tr>\n",
       "      <th>745629</th>\n",
       "      <td>89F33397EABB55E7</td>\n",
       "      <td>docked_bike</td>\n",
       "      <td>2021-07-08 15:13:08</td>\n",
       "      <td>2021-08-06 13:18:39</td>\n",
       "      <td>Streeter Dr &amp; Grand Ave</td>\n",
       "      <td>13022</td>\n",
       "      <td>Calumet Ave &amp; 33rd St</td>\n",
       "      <td>13217</td>\n",
       "      <td>41.892278</td>\n",
       "      <td>-87.612043</td>\n",
       "      <td>41.834900</td>\n",
       "      <td>-87.617930</td>\n",
       "      <td>casual</td>\n",
       "      <td>28 days 22:05:31</td>\n",
       "    </tr>\n",
       "    <tr>\n",
       "      <th>1744716</th>\n",
       "      <td>E25E58F5E94EE351</td>\n",
       "      <td>docked_bike</td>\n",
       "      <td>2021-08-01 18:53:10</td>\n",
       "      <td>2021-08-30 16:42:20</td>\n",
       "      <td>Michigan Ave &amp; Jackson Blvd</td>\n",
       "      <td>TA1309000002</td>\n",
       "      <td>Daley Center Plaza</td>\n",
       "      <td>TA1306000010</td>\n",
       "      <td>41.877850</td>\n",
       "      <td>-87.624080</td>\n",
       "      <td>41.884241</td>\n",
       "      <td>-87.629634</td>\n",
       "      <td>casual</td>\n",
       "      <td>28 days 21:49:10</td>\n",
       "    </tr>\n",
       "    <tr>\n",
       "      <th>1060985</th>\n",
       "      <td>D4E35EE211346690</td>\n",
       "      <td>docked_bike</td>\n",
       "      <td>2021-07-10 15:59:21</td>\n",
       "      <td>2021-08-07 22:43:57</td>\n",
       "      <td>Dusable Harbor</td>\n",
       "      <td>KA1503000064</td>\n",
       "      <td>Warren Park East</td>\n",
       "      <td>RP-002</td>\n",
       "      <td>41.886976</td>\n",
       "      <td>-87.612813</td>\n",
       "      <td>42.004550</td>\n",
       "      <td>-87.680666</td>\n",
       "      <td>casual</td>\n",
       "      <td>28 days 06:44:36</td>\n",
       "    </tr>\n",
       "    <tr>\n",
       "      <th>3473058</th>\n",
       "      <td>A310C7270FD730B6</td>\n",
       "      <td>docked_bike</td>\n",
       "      <td>2021-10-02 18:35:36</td>\n",
       "      <td>2021-10-31 01:00:37</td>\n",
       "      <td>Dusable Harbor</td>\n",
       "      <td>KA1503000064</td>\n",
       "      <td>Wells St &amp; Elm St</td>\n",
       "      <td>KA1504000135</td>\n",
       "      <td>41.886976</td>\n",
       "      <td>-87.612813</td>\n",
       "      <td>41.903222</td>\n",
       "      <td>-87.634324</td>\n",
       "      <td>casual</td>\n",
       "      <td>28 days 06:25:01</td>\n",
       "    </tr>\n",
       "    <tr>\n",
       "      <th>...</th>\n",
       "      <td>...</td>\n",
       "      <td>...</td>\n",
       "      <td>...</td>\n",
       "      <td>...</td>\n",
       "      <td>...</td>\n",
       "      <td>...</td>\n",
       "      <td>...</td>\n",
       "      <td>...</td>\n",
       "      <td>...</td>\n",
       "      <td>...</td>\n",
       "      <td>...</td>\n",
       "      <td>...</td>\n",
       "      <td>...</td>\n",
       "      <td>...</td>\n",
       "    </tr>\n",
       "    <tr>\n",
       "      <th>4165825</th>\n",
       "      <td>8ADEB58587BCCEBD</td>\n",
       "      <td>docked_bike</td>\n",
       "      <td>2021-12-19 14:26:48</td>\n",
       "      <td>2021-12-26 15:30:40</td>\n",
       "      <td>Western Blvd &amp; 48th Pl</td>\n",
       "      <td>594</td>\n",
       "      <td>May St &amp; Cullerton St</td>\n",
       "      <td>13331</td>\n",
       "      <td>41.805661</td>\n",
       "      <td>-87.683392</td>\n",
       "      <td>41.855136</td>\n",
       "      <td>-87.654127</td>\n",
       "      <td>casual</td>\n",
       "      <td>7 days 01:03:52</td>\n",
       "    </tr>\n",
       "    <tr>\n",
       "      <th>1078005</th>\n",
       "      <td>FCC71F4202BCF6E8</td>\n",
       "      <td>docked_bike</td>\n",
       "      <td>2021-07-30 23:39:47</td>\n",
       "      <td>2021-08-06 23:09:05</td>\n",
       "      <td>Lincoln Ave &amp; Addison St</td>\n",
       "      <td>TA1309000050</td>\n",
       "      <td>Monticello Ave &amp; Irving Park Rd</td>\n",
       "      <td>KA1504000139</td>\n",
       "      <td>41.946176</td>\n",
       "      <td>-87.673308</td>\n",
       "      <td>41.954005</td>\n",
       "      <td>-87.719128</td>\n",
       "      <td>casual</td>\n",
       "      <td>6 days 23:29:18</td>\n",
       "    </tr>\n",
       "    <tr>\n",
       "      <th>178595</th>\n",
       "      <td>AECFDE4080DB4B4C</td>\n",
       "      <td>docked_bike</td>\n",
       "      <td>2021-06-17 18:01:14</td>\n",
       "      <td>2021-06-24 15:51:24</td>\n",
       "      <td>Fort Dearborn Dr &amp; 31st St</td>\n",
       "      <td>TA1307000048</td>\n",
       "      <td>Rhodes Ave &amp; 32nd St</td>\n",
       "      <td>13215</td>\n",
       "      <td>41.838556</td>\n",
       "      <td>-87.608218</td>\n",
       "      <td>41.836208</td>\n",
       "      <td>-87.613533</td>\n",
       "      <td>casual</td>\n",
       "      <td>6 days 21:50:10</td>\n",
       "    </tr>\n",
       "    <tr>\n",
       "      <th>805348</th>\n",
       "      <td>8E9FCC1F318140D4</td>\n",
       "      <td>docked_bike</td>\n",
       "      <td>2021-07-04 16:42:40</td>\n",
       "      <td>2021-07-11 14:19:17</td>\n",
       "      <td>Sheridan Rd &amp; Montrose Ave</td>\n",
       "      <td>TA1307000107</td>\n",
       "      <td>Damen Ave &amp; Leland Ave</td>\n",
       "      <td>TA1307000158</td>\n",
       "      <td>41.961670</td>\n",
       "      <td>-87.654640</td>\n",
       "      <td>41.967094</td>\n",
       "      <td>-87.679028</td>\n",
       "      <td>casual</td>\n",
       "      <td>6 days 21:36:37</td>\n",
       "    </tr>\n",
       "    <tr>\n",
       "      <th>4410630</th>\n",
       "      <td>81F3141973924C8C</td>\n",
       "      <td>docked_bike</td>\n",
       "      <td>2022-01-12 15:58:21</td>\n",
       "      <td>2022-01-19 11:57:25</td>\n",
       "      <td>Sedgwick St &amp; Schiller St</td>\n",
       "      <td>TA1307000143</td>\n",
       "      <td>Larrabee St &amp; Division St</td>\n",
       "      <td>KA1504000079</td>\n",
       "      <td>41.907626</td>\n",
       "      <td>-87.638566</td>\n",
       "      <td>41.903486</td>\n",
       "      <td>-87.643353</td>\n",
       "      <td>casual</td>\n",
       "      <td>6 days 19:59:04</td>\n",
       "    </tr>\n",
       "  </tbody>\n",
       "</table>\n",
       "<p>120 rows × 14 columns</p>\n",
       "</div>"
      ],
      "text/plain": [
       "                  ride_id rideable_type          started_at  \\\n",
       "595683   F043F0F6A1AA4F85   docked_bike 2021-06-05 02:27:26   \n",
       "745629   89F33397EABB55E7   docked_bike 2021-07-08 15:13:08   \n",
       "1744716  E25E58F5E94EE351   docked_bike 2021-08-01 18:53:10   \n",
       "1060985  D4E35EE211346690   docked_bike 2021-07-10 15:59:21   \n",
       "3473058  A310C7270FD730B6   docked_bike 2021-10-02 18:35:36   \n",
       "...                   ...           ...                 ...   \n",
       "4165825  8ADEB58587BCCEBD   docked_bike 2021-12-19 14:26:48   \n",
       "1078005  FCC71F4202BCF6E8   docked_bike 2021-07-30 23:39:47   \n",
       "178595   AECFDE4080DB4B4C   docked_bike 2021-06-17 18:01:14   \n",
       "805348   8E9FCC1F318140D4   docked_bike 2021-07-04 16:42:40   \n",
       "4410630  81F3141973924C8C   docked_bike 2022-01-12 15:58:21   \n",
       "\n",
       "                   ended_at           start_station_name start_station_id  \\\n",
       "595683  2021-07-13 22:51:35       Michigan Ave & Lake St     TA1305000011   \n",
       "745629  2021-08-06 13:18:39      Streeter Dr & Grand Ave            13022   \n",
       "1744716 2021-08-30 16:42:20  Michigan Ave & Jackson Blvd     TA1309000002   \n",
       "1060985 2021-08-07 22:43:57               Dusable Harbor     KA1503000064   \n",
       "3473058 2021-10-31 01:00:37               Dusable Harbor     KA1503000064   \n",
       "...                     ...                          ...              ...   \n",
       "4165825 2021-12-26 15:30:40       Western Blvd & 48th Pl              594   \n",
       "1078005 2021-08-06 23:09:05     Lincoln Ave & Addison St     TA1309000050   \n",
       "178595  2021-06-24 15:51:24   Fort Dearborn Dr & 31st St     TA1307000048   \n",
       "805348  2021-07-11 14:19:17   Sheridan Rd & Montrose Ave     TA1307000107   \n",
       "4410630 2022-01-19 11:57:25    Sedgwick St & Schiller St     TA1307000143   \n",
       "\n",
       "                           end_station_name end_station_id  start_lat  \\\n",
       "595683   Malcolm X College Vaccination Site            631  41.886024   \n",
       "745629                Calumet Ave & 33rd St          13217  41.892278   \n",
       "1744716                  Daley Center Plaza   TA1306000010  41.877850   \n",
       "1060985                    Warren Park East         RP-002  41.886976   \n",
       "3473058                   Wells St & Elm St   KA1504000135  41.886976   \n",
       "...                                     ...            ...        ...   \n",
       "4165825               May St & Cullerton St          13331  41.805661   \n",
       "1078005     Monticello Ave & Irving Park Rd   KA1504000139  41.946176   \n",
       "178595                 Rhodes Ave & 32nd St          13215  41.838556   \n",
       "805348               Damen Ave & Leland Ave   TA1307000158  41.961670   \n",
       "4410630           Larrabee St & Division St   KA1504000079  41.907626   \n",
       "\n",
       "         start_lng    end_lat    end_lng member_casual    trip_duration  \n",
       "595683  -87.624117  41.877618 -87.673895        casual 38 days 20:24:09  \n",
       "745629  -87.612043  41.834900 -87.617930        casual 28 days 22:05:31  \n",
       "1744716 -87.624080  41.884241 -87.629634        casual 28 days 21:49:10  \n",
       "1060985 -87.612813  42.004550 -87.680666        casual 28 days 06:44:36  \n",
       "3473058 -87.612813  41.903222 -87.634324        casual 28 days 06:25:01  \n",
       "...            ...        ...        ...           ...              ...  \n",
       "4165825 -87.683392  41.855136 -87.654127        casual  7 days 01:03:52  \n",
       "1078005 -87.673308  41.954005 -87.719128        casual  6 days 23:29:18  \n",
       "178595  -87.608218  41.836208 -87.613533        casual  6 days 21:50:10  \n",
       "805348  -87.654640  41.967094 -87.679028        casual  6 days 21:36:37  \n",
       "4410630 -87.638566  41.903486 -87.643353        casual  6 days 19:59:04  \n",
       "\n",
       "[120 rows x 14 columns]"
      ]
     },
     "execution_count": 30,
     "metadata": {},
     "output_type": "execute_result"
    }
   ],
   "source": [
    "rsorted_td.head(120)"
   ]
  },
  {
   "cell_type": "markdown",
   "id": "a8a09539-77b1-4a62-afbf-dced26ae3314",
   "metadata": {
    "tags": []
   },
   "source": [
    "As we can see there are trips with inconsistent trip durations. There can not be trips ending before starting, and all of the trips longer than a day comes from casual users, which can't be possible due to their usage. Let's get ride of these inconsistent values. \n",
    "\n",
    "(**Note**: There will be trips lasting almost a day, but since that could be possible we will not delete them. It is hard to establish what is a reasonable usage of the bikes. Some users might get the pass and try to use it all they can. That's why we will stick to delete only the values for more than a day)."
   ]
  },
  {
   "cell_type": "code",
   "execution_count": 31,
   "id": "6de6ca3d-ebe0-4e52-a4cd-cb370cc6d262",
   "metadata": {
    "tags": []
   },
   "outputs": [],
   "source": [
    "df = df[df['trip_duration']>np.timedelta64(timedelta(days=0))]\n",
    "df = df[df['trip_duration']<np.timedelta64(timedelta(days=1))]"
   ]
  },
  {
   "cell_type": "code",
   "execution_count": 32,
   "id": "2ea83638-12e3-47df-8a55-a6243f871fe6",
   "metadata": {
    "tags": []
   },
   "outputs": [
    {
     "data": {
      "text/html": [
       "<div>\n",
       "<style scoped>\n",
       "    .dataframe tbody tr th:only-of-type {\n",
       "        vertical-align: middle;\n",
       "    }\n",
       "\n",
       "    .dataframe tbody tr th {\n",
       "        vertical-align: top;\n",
       "    }\n",
       "\n",
       "    .dataframe thead th {\n",
       "        text-align: right;\n",
       "    }\n",
       "</style>\n",
       "<table border=\"1\" class=\"dataframe\">\n",
       "  <thead>\n",
       "    <tr style=\"text-align: right;\">\n",
       "      <th></th>\n",
       "      <th>ride_id</th>\n",
       "      <th>rideable_type</th>\n",
       "      <th>started_at</th>\n",
       "      <th>ended_at</th>\n",
       "      <th>start_station_name</th>\n",
       "      <th>start_station_id</th>\n",
       "      <th>end_station_name</th>\n",
       "      <th>end_station_id</th>\n",
       "      <th>start_lat</th>\n",
       "      <th>start_lng</th>\n",
       "      <th>end_lat</th>\n",
       "      <th>end_lng</th>\n",
       "      <th>member_casual</th>\n",
       "      <th>trip_duration</th>\n",
       "    </tr>\n",
       "  </thead>\n",
       "  <tbody>\n",
       "    <tr>\n",
       "      <th>4966498</th>\n",
       "      <td>0AB04BB3CAA0FCD0</td>\n",
       "      <td>classic_bike</td>\n",
       "      <td>2022-04-24 02:37:25</td>\n",
       "      <td>2022-04-25 02:36:00</td>\n",
       "      <td>Ellis Ave &amp; 55th St</td>\n",
       "      <td>KA1504000076</td>\n",
       "      <td>Elizabeth St &amp; 59th St</td>\n",
       "      <td>647</td>\n",
       "      <td>41.794301</td>\n",
       "      <td>-87.601450</td>\n",
       "      <td>41.789697</td>\n",
       "      <td>-87.654698</td>\n",
       "      <td>casual</td>\n",
       "      <td>0 days 23:58:35</td>\n",
       "    </tr>\n",
       "    <tr>\n",
       "      <th>517041</th>\n",
       "      <td>45A37F50CBEA6B1B</td>\n",
       "      <td>docked_bike</td>\n",
       "      <td>2021-06-05 07:26:41</td>\n",
       "      <td>2021-06-06 07:24:40</td>\n",
       "      <td>Yates Blvd &amp; 75th St</td>\n",
       "      <td>KA1503000024</td>\n",
       "      <td>Yates Blvd &amp; 75th St</td>\n",
       "      <td>KA1503000024</td>\n",
       "      <td>41.758768</td>\n",
       "      <td>-87.566440</td>\n",
       "      <td>41.758768</td>\n",
       "      <td>-87.566440</td>\n",
       "      <td>casual</td>\n",
       "      <td>0 days 23:57:59</td>\n",
       "    </tr>\n",
       "    <tr>\n",
       "      <th>5391337</th>\n",
       "      <td>572A0A83B2979D9B</td>\n",
       "      <td>classic_bike</td>\n",
       "      <td>2022-05-07 17:32:31</td>\n",
       "      <td>2022-05-08 17:30:13</td>\n",
       "      <td>Clark St &amp; Grace St</td>\n",
       "      <td>TA1307000127</td>\n",
       "      <td>Lincoln Ave &amp; Sunnyside Ave</td>\n",
       "      <td>TA1307000156</td>\n",
       "      <td>41.950780</td>\n",
       "      <td>-87.659172</td>\n",
       "      <td>41.963004</td>\n",
       "      <td>-87.684781</td>\n",
       "      <td>casual</td>\n",
       "      <td>0 days 23:57:42</td>\n",
       "    </tr>\n",
       "    <tr>\n",
       "      <th>2481636</th>\n",
       "      <td>57593C5CB61F881B</td>\n",
       "      <td>classic_bike</td>\n",
       "      <td>2021-09-15 11:51:44</td>\n",
       "      <td>2021-09-16 11:49:11</td>\n",
       "      <td>Carpenter St &amp; Huron St</td>\n",
       "      <td>13196</td>\n",
       "      <td>Clybourn Ave &amp; Division St</td>\n",
       "      <td>TA1307000115</td>\n",
       "      <td>41.894556</td>\n",
       "      <td>-87.653449</td>\n",
       "      <td>41.904613</td>\n",
       "      <td>-87.640552</td>\n",
       "      <td>casual</td>\n",
       "      <td>0 days 23:57:27</td>\n",
       "    </tr>\n",
       "    <tr>\n",
       "      <th>37320</th>\n",
       "      <td>8BDDD73BCD395A3C</td>\n",
       "      <td>docked_bike</td>\n",
       "      <td>2021-06-05 07:27:14</td>\n",
       "      <td>2021-06-06 07:24:32</td>\n",
       "      <td>Yates Blvd &amp; 75th St</td>\n",
       "      <td>KA1503000024</td>\n",
       "      <td>Yates Blvd &amp; 75th St</td>\n",
       "      <td>KA1503000024</td>\n",
       "      <td>41.758768</td>\n",
       "      <td>-87.566440</td>\n",
       "      <td>41.758768</td>\n",
       "      <td>-87.566440</td>\n",
       "      <td>casual</td>\n",
       "      <td>0 days 23:57:18</td>\n",
       "    </tr>\n",
       "  </tbody>\n",
       "</table>\n",
       "</div>"
      ],
      "text/plain": [
       "                  ride_id rideable_type          started_at  \\\n",
       "4966498  0AB04BB3CAA0FCD0  classic_bike 2022-04-24 02:37:25   \n",
       "517041   45A37F50CBEA6B1B   docked_bike 2021-06-05 07:26:41   \n",
       "5391337  572A0A83B2979D9B  classic_bike 2022-05-07 17:32:31   \n",
       "2481636  57593C5CB61F881B  classic_bike 2021-09-15 11:51:44   \n",
       "37320    8BDDD73BCD395A3C   docked_bike 2021-06-05 07:27:14   \n",
       "\n",
       "                   ended_at       start_station_name start_station_id  \\\n",
       "4966498 2022-04-25 02:36:00      Ellis Ave & 55th St     KA1504000076   \n",
       "517041  2021-06-06 07:24:40     Yates Blvd & 75th St     KA1503000024   \n",
       "5391337 2022-05-08 17:30:13      Clark St & Grace St     TA1307000127   \n",
       "2481636 2021-09-16 11:49:11  Carpenter St & Huron St            13196   \n",
       "37320   2021-06-06 07:24:32     Yates Blvd & 75th St     KA1503000024   \n",
       "\n",
       "                    end_station_name end_station_id  start_lat  start_lng  \\\n",
       "4966498       Elizabeth St & 59th St            647  41.794301 -87.601450   \n",
       "517041          Yates Blvd & 75th St   KA1503000024  41.758768 -87.566440   \n",
       "5391337  Lincoln Ave & Sunnyside Ave   TA1307000156  41.950780 -87.659172   \n",
       "2481636   Clybourn Ave & Division St   TA1307000115  41.894556 -87.653449   \n",
       "37320           Yates Blvd & 75th St   KA1503000024  41.758768 -87.566440   \n",
       "\n",
       "           end_lat    end_lng member_casual   trip_duration  \n",
       "4966498  41.789697 -87.654698        casual 0 days 23:58:35  \n",
       "517041   41.758768 -87.566440        casual 0 days 23:57:59  \n",
       "5391337  41.963004 -87.684781        casual 0 days 23:57:42  \n",
       "2481636  41.904613 -87.640552        casual 0 days 23:57:27  \n",
       "37320    41.758768 -87.566440        casual 0 days 23:57:18  "
      ]
     },
     "execution_count": 32,
     "metadata": {},
     "output_type": "execute_result"
    }
   ],
   "source": [
    "sorted_td = df.sort_values(by='trip_duration')\n",
    "rsorted_td = df.sort_values(by='trip_duration', ascending = False)\n",
    "rsorted_td.head()"
   ]
  },
  {
   "cell_type": "markdown",
   "id": "b6bf8a1e-e80b-4a91-8865-a0c3d9e3b0cf",
   "metadata": {},
   "source": [
    "### Transforming dataset"
   ]
  },
  {
   "cell_type": "markdown",
   "id": "94f15769-a035-458f-9087-f790c4ac49c6",
   "metadata": {
    "tags": []
   },
   "source": [
    "#### Adding practical columns"
   ]
  },
  {
   "cell_type": "markdown",
   "id": "2dbc83db-0816-44f9-8210-999647272b55",
   "metadata": {},
   "source": [
    "While checking for inconsistent data, we have already added the column 'trip_duration'. For analysis, we will rather have it in minutes. \n",
    "\n",
    "On the other hand, we will also add the following columns:\n",
    "\n",
    "- \"distance\": the distance ridden for every trip.\n",
    "- \"day_of_week\": the day of the week when the bike was picked up. "
   ]
  },
  {
   "cell_type": "code",
   "execution_count": 33,
   "id": "4d47cd47-d80d-4dd8-80dd-933f2cd9c86c",
   "metadata": {},
   "outputs": [],
   "source": [
    "def distance(x1, y1, x2, y2):\n",
    "    d = ((x2-x1)**2 +(y2-y1)**2)**(1/2)* 111.32 #for value in km (note that coordinates measure a sphere and we are calculating like if it was a plane)\n",
    "    return d"
   ]
  },
  {
   "cell_type": "code",
   "execution_count": 34,
   "id": "3135512a-d8eb-473c-b0dd-556a132cb483",
   "metadata": {
    "tags": []
   },
   "outputs": [],
   "source": [
    "df['trip_duration'] = df['trip_duration']/np.timedelta64(1, 'm')\n",
    "df['distance'] = distance(df['start_lat'], df['start_lng'], df['end_lat'], df['end_lng'])\n",
    "df['day_of_week'] = df['started_at'].dt.strftime('%A')"
   ]
  },
  {
   "cell_type": "code",
   "execution_count": 35,
   "id": "7b3c090b-ede5-4465-b0da-69478e739d4e",
   "metadata": {},
   "outputs": [
    {
     "name": "stdout",
     "output_type": "stream",
     "text": [
      "<class 'pandas.core.frame.DataFrame'>\n",
      "Int64Index: 5300385 entries, 0 to 5860775\n",
      "Data columns (total 16 columns):\n",
      " #   Column              Dtype         \n",
      "---  ------              -----         \n",
      " 0   ride_id             object        \n",
      " 1   rideable_type       category      \n",
      " 2   started_at          datetime64[ns]\n",
      " 3   ended_at            datetime64[ns]\n",
      " 4   start_station_name  object        \n",
      " 5   start_station_id    object        \n",
      " 6   end_station_name    object        \n",
      " 7   end_station_id      object        \n",
      " 8   start_lat           float64       \n",
      " 9   start_lng           float64       \n",
      " 10  end_lat             float64       \n",
      " 11  end_lng             float64       \n",
      " 12  member_casual       category      \n",
      " 13  trip_duration       float64       \n",
      " 14  distance            float64       \n",
      " 15  day_of_week         object        \n",
      "dtypes: category(2), datetime64[ns](2), float64(6), object(6)\n",
      "memory usage: 616.7+ MB\n"
     ]
    }
   ],
   "source": [
    "df.info()"
   ]
  },
  {
   "cell_type": "markdown",
   "id": "98ec384c-f82f-4286-93fe-e41fb086c734",
   "metadata": {},
   "source": [
    "Now that our dataset is ready for analysis, let's save our process data into a new CSV file. "
   ]
  },
  {
   "cell_type": "code",
   "execution_count": 36,
   "id": "cb1b2b72-7166-44da-b5f9-6d859390d813",
   "metadata": {},
   "outputs": [],
   "source": [
    "df.to_csv('Cyclistic_processed_data.csv')"
   ]
  },
  {
   "cell_type": "markdown",
   "id": "1596c1f0-18c0-4367-9821-68ef2947482d",
   "metadata": {},
   "source": [
    "## 4. Analyze the data"
   ]
  },
  {
   "cell_type": "markdown",
   "id": "fcf945b5-e61a-4657-b984-434af8e42df4",
   "metadata": {},
   "source": [
    "Now that our data is clean and formatted they way we want let's get some insights."
   ]
  },
  {
   "cell_type": "markdown",
   "id": "4f4d825b-253e-42a3-8316-1c42c0d25081",
   "metadata": {},
   "source": [
    "### Total amount of bike rides"
   ]
  },
  {
   "cell_type": "code",
   "execution_count": 37,
   "id": "ea743643-fd64-48b2-9cd1-f1989121d51b",
   "metadata": {},
   "outputs": [
    {
     "data": {
      "text/plain": [
       "member_casual\n",
       "casual    2255632\n",
       "member    3044753\n",
       "Name: ride_id, dtype: int64"
      ]
     },
     "execution_count": 37,
     "metadata": {},
     "output_type": "execute_result"
    }
   ],
   "source": [
    "df.groupby('member_casual')['ride_id'].count() #The column is not neccesary, but we include it for clarity"
   ]
  },
  {
   "cell_type": "markdown",
   "id": "c6dcf181-266a-45c8-b858-defcb4f253d4",
   "metadata": {},
   "source": [
    "There are more members than casual users, representing around 57% of the total usage of the Cyclist bikes."
   ]
  },
  {
   "cell_type": "markdown",
   "id": "d13fdd1e-f857-4134-a0f7-125721c63800",
   "metadata": {},
   "source": [
    "### Bike types for members and casuals"
   ]
  },
  {
   "cell_type": "code",
   "execution_count": 38,
   "id": "bf0a98f0-fa2f-4c3e-a20e-0ebc0074d244",
   "metadata": {},
   "outputs": [
    {
     "data": {
      "text/plain": [
       "member_casual               \n",
       "casual         classic_bike     1058638\n",
       "               electric_bike     971080\n",
       "               docked_bike       225914\n",
       "member         classic_bike     1793265\n",
       "               electric_bike    1251488\n",
       "               docked_bike            0\n",
       "Name: rideable_type, dtype: int64"
      ]
     },
     "execution_count": 38,
     "metadata": {},
     "output_type": "execute_result"
    }
   ],
   "source": [
    "df.groupby('member_casual')['rideable_type'].value_counts()"
   ]
  },
  {
   "cell_type": "markdown",
   "id": "dbc19928-e5d6-42b9-8dce-2fe33523d101",
   "metadata": {},
   "source": [
    "- It is remarkable that no members use the docked bikes. \n",
    "- Electric bikes are chosen proportional to the total use. Around 57 % of electric bike rides are from members.\n",
    "- Classic bikes are members favourite choice, representing around 63 % of classic bike trips, as well as 59 % of all members rides."
   ]
  },
  {
   "cell_type": "markdown",
   "id": "ebbc2a1f-5e52-4e98-aaab-dcc82fce52db",
   "metadata": {},
   "source": [
    "### Bike rides throughout the year"
   ]
  },
  {
   "cell_type": "code",
   "execution_count": 39,
   "id": "308e7f71-62c5-4cd8-b89c-d227ff7107a0",
   "metadata": {},
   "outputs": [
    {
     "data": {
      "text/plain": [
       "<bound method NDFrame.head of                           total_quantity\n",
       "started_at member_casual                \n",
       "2021-06-30 casual                 320880\n",
       "           member                 324263\n",
       "2021-07-31 casual                 382605\n",
       "           member                 343344\n",
       "2021-08-31 casual                 358928\n",
       "           member                 353499\n",
       "2021-09-30 casual                 322417\n",
       "           member                 358242\n",
       "2021-10-31 casual                 233106\n",
       "           member                 349602\n",
       "2021-11-30 casual                  98512\n",
       "           member                 239497\n",
       "2021-12-31 casual                  64399\n",
       "           member                 168437\n",
       "2022-01-31 casual                  17343\n",
       "           member                  80833\n",
       "2022-02-28 casual                  19861\n",
       "           member                  89090\n",
       "2022-03-31 casual                  80414\n",
       "           member                 182433\n",
       "2022-04-30 casual                 113206\n",
       "           member                 230036\n",
       "2022-05-31 casual                 243961\n",
       "           member                 325477>"
      ]
     },
     "execution_count": 39,
     "metadata": {},
     "output_type": "execute_result"
    }
   ],
   "source": [
    "df = df.set_index(['started_at'])\n",
    "# converting index to datetime index\n",
    "df.index = pd.to_datetime(df.index)\n",
    "df.groupby([pd.Grouper(freq='M'), 'member_casual']).agg(total_quantity=('ride_id', 'count')).head"
   ]
  },
  {
   "cell_type": "markdown",
   "id": "06629575-371e-462f-b586-fb6f73d48a4b",
   "metadata": {},
   "source": [
    "We can see from the results that bikes are used more often on the summer months, for both casual and member users. However, the members use is a lot more even throughout the year.\n",
    "On winter months, there is almost no use for the casual users."
   ]
  },
  {
   "cell_type": "markdown",
   "id": "5cdc0f7e-2d81-40a3-8cd5-83fa32185706",
   "metadata": {},
   "source": [
    "### Bike rides throughout the week"
   ]
  },
  {
   "cell_type": "code",
   "execution_count": 40,
   "id": "d7a451d6-0094-45bc-9ebc-5aeb476297c5",
   "metadata": {},
   "outputs": [
    {
     "data": {
      "text/plain": [
       "member_casual  day_of_week\n",
       "casual         Saturday       474073\n",
       "               Sunday         407158\n",
       "               Friday         322456\n",
       "               Thursday       275686\n",
       "               Monday         266058\n",
       "               Tuesday        255389\n",
       "               Wednesday      254812\n",
       "member         Tuesday        487784\n",
       "               Wednesday      475758\n",
       "               Thursday       466416\n",
       "               Monday         431025\n",
       "               Friday         427658\n",
       "               Saturday       399698\n",
       "               Sunday         356414\n",
       "Name: day_of_week, dtype: int64"
      ]
     },
     "execution_count": 40,
     "metadata": {},
     "output_type": "execute_result"
    }
   ],
   "source": [
    "df.groupby('member_casual')['day_of_week'].value_counts()"
   ]
  },
  {
   "cell_type": "markdown",
   "id": "8a4d1b60-5262-452a-a558-5d74795dcfdc",
   "metadata": {},
   "source": [
    "This seems a determining factor on how members and casuals use Cyclist bikes differently. \n",
    "- For casuals, there is a great difference between weekends and weekdays.\n",
    "- Members use the bikes very evenly throughtout the week and with a slight decrease during the weekends. \n"
   ]
  },
  {
   "cell_type": "markdown",
   "id": "8a484368-df73-438c-94dd-e3673518ea24",
   "metadata": {},
   "source": [
    "### Ride times and distances"
   ]
  },
  {
   "cell_type": "code",
   "execution_count": 41,
   "id": "6a4f8a0f-9838-403d-9c26-17bbff983118",
   "metadata": {},
   "outputs": [
    {
     "data": {
      "text/plain": [
       "member_casual\n",
       "casual    24.488927\n",
       "member    12.436780\n",
       "Name: trip_duration, dtype: float64"
      ]
     },
     "execution_count": 41,
     "metadata": {},
     "output_type": "execute_result"
    }
   ],
   "source": [
    "df.groupby('member_casual')['trip_duration'].mean()"
   ]
  },
  {
   "cell_type": "code",
   "execution_count": 42,
   "id": "a92ad26d-c3f4-4fe0-af51-26cbfed66058",
   "metadata": {},
   "outputs": [
    {
     "data": {
      "text/plain": [
       "member_casual\n",
       "casual    2.528272\n",
       "member    2.316465\n",
       "Name: distance, dtype: float64"
      ]
     },
     "execution_count": 42,
     "metadata": {},
     "output_type": "execute_result"
    }
   ],
   "source": [
    "df.groupby('member_casual')['distance'].mean()"
   ]
  },
  {
   "cell_type": "markdown",
   "id": "4a4a9f17-7809-4c79-bdd8-2c092d5de599",
   "metadata": {},
   "source": [
    "Casuals spend, on average, twice as much as time for every ride they take. However, the traveled distance is approximately the same. "
   ]
  },
  {
   "cell_type": "code",
   "execution_count": 43,
   "id": "ae97744b-798e-4d5d-a4e8-a47b398b577b",
   "metadata": {},
   "outputs": [
    {
     "data": {
      "text/plain": [
       "started_at\n",
       "2021-06-13 14:31:28    False\n",
       "2021-06-04 11:18:02    False\n",
       "2021-06-04 09:49:35    False\n",
       "2021-06-03 19:56:05    False\n",
       "2021-06-04 14:05:51    False\n",
       "                       ...  \n",
       "2022-05-27 22:00:02    False\n",
       "2022-05-15 16:05:39    False\n",
       "2022-05-21 10:10:13    False\n",
       "2022-05-12 07:53:58    False\n",
       "2022-05-11 21:14:28    False\n",
       "Name: trip_duration, Length: 5300385, dtype: bool"
      ]
     },
     "execution_count": 43,
     "metadata": {},
     "output_type": "execute_result"
    }
   ],
   "source": [
    "df['trip_duration'].isnull()"
   ]
  },
  {
   "cell_type": "markdown",
   "id": "26ca31b2-e553-4887-be4b-2a99e1ca171c",
   "metadata": {},
   "source": [
    "## 5. Share the key points with visualizations"
   ]
  },
  {
   "cell_type": "markdown",
   "id": "4c7decf0-771e-4c12-834f-f2aac23c0fe0",
   "metadata": {},
   "source": [
    "Visualizations is usually the best way to get the insight of the results. We can see now some graphs about the usage of the bikes for casuals and members."
   ]
  },
  {
   "cell_type": "code",
   "execution_count": 44,
   "id": "cf4b7355-376c-4bc5-b34f-361b09351a07",
   "metadata": {},
   "outputs": [
    {
     "data": {
      "image/png": "[encoded data removed]",
      "text/plain": [
       "<Figure size 1080x1080 with 2 Axes>"
      ]
     },
     "metadata": {
      "needs_background": "light"
     },
     "output_type": "display_data"
    }
   ],
   "source": [
    "def coordinates_casual() -> None:\n",
    "    filter = df[\"member_casual\"]=='casual'\n",
    "    start_c = df[['start_lng','start_lat']].where(filter)\n",
    "    end_c = df[['end_lng','end_lat']].where(filter)\n",
    "    geometry_start = [Point(xy) for xy in zip(start_c['start_lng'], start_c['start_lat'])]\n",
    "    geometry_end = [Point(xy) for xy in zip(end_c['end_lng'], end_c['end_lat'])]\n",
    "    gdf1 = GeoDataFrame(start_c, geometry = geometry_start)\n",
    "    gdf2 = GeoDataFrame(end_c, geometry = geometry_end)\n",
    "               \n",
    "    fig, (ax1, ax2) = plt.subplots(1,2, figsize = (15,15))\n",
    "        \n",
    "    chicago = gpd.read_file('geo_export_15deee7d-207e-4de1-9ee3-f83772a73e31.shp')\n",
    "            \n",
    "    chicago.plot(ax = ax1, alpha = 0.5, color = 'grey')\n",
    "    gdf1.plot(ax = ax1, markersize = 3, color = 'blue', marker = 'o', label = 'bike trips starting points')\n",
    "    chicago.plot(ax = ax2, alpha = 0.2, color = 'grey')\n",
    "    gdf2.plot(ax = ax2, markersize = 3, color = 'red', marker = 'o', label = 'bike trips ending points')\n",
    "    \n",
    "    ax1.set(xlabel = 'longitude', ylabel ='latitude')\n",
    "    ax1.set_title('Locations for bike pick-up')\n",
    "    ax2.set(xlabel = 'longitude', ylabel ='latitude')\n",
    "    ax2.set_title('Locations for bike dropped-off')\n",
    "    ax1.legend(loc = 'upper right')\n",
    "    ax2.legend(loc = 'upper right')\n",
    "    \n",
    "\n",
    "coordinates_casual()   "
   ]
  },
  {
   "cell_type": "code",
   "execution_count": 45,
   "id": "d9d00425-fad1-4231-93c1-94222cbdf353",
   "metadata": {},
   "outputs": [
    {
     "data": {
      "image/png": "[encoded data removed]",
      "text/plain": [
       "<Figure size 1080x1080 with 2 Axes>"
      ]
     },
     "metadata": {
      "needs_background": "light"
     },
     "output_type": "display_data"
    }
   ],
   "source": [
    "def coordinates_member() -> None:\n",
    "    filter = df[\"member_casual\"]=='member'\n",
    "    start_c = df[['start_lng','start_lat']].where(filter)\n",
    "    end_c = df[['end_lng','end_lat']].where(filter)\n",
    "    geometry_start = [Point(xy) for xy in zip(start_c['start_lng'], start_c['start_lat'])]\n",
    "    geometry_end = [Point(xy) for xy in zip(end_c['end_lng'], end_c['end_lat'])]\n",
    "    gdf1 = GeoDataFrame(start_c, geometry = geometry_start)\n",
    "    gdf2 = GeoDataFrame(end_c, geometry = geometry_end)\n",
    "               \n",
    "    fig, (ax1, ax2) = plt.subplots(1,2, figsize = (15,15))\n",
    "        \n",
    "    chicago = gpd.read_file('geo_export_15deee7d-207e-4de1-9ee3-f83772a73e31.shp')\n",
    "            \n",
    "    chicago.plot(ax = ax1, alpha = 0.5, color = 'grey')\n",
    "    gdf1.plot(ax = ax1, markersize = 3, color = 'blue', marker = 'o', label = 'bike trips starting points')\n",
    "    chicago.plot(ax = ax2, alpha = 0.2, color = 'grey')\n",
    "    gdf2.plot(ax = ax2, markersize = 3, color = 'red', marker = 'o', label = 'bike trips ending points')\n",
    "    \n",
    "    ax1.set(xlabel = 'longitude', ylabel ='latitude')\n",
    "    ax1.set_title('Locations for bike pick-up')\n",
    "    ax2.set(xlabel = 'longitude', ylabel ='latitude')\n",
    "    ax2.set_title('Locations for bike dropped-off')\n",
    "    ax1.legend(loc = 'upper right')\n",
    "    ax2.legend(loc = 'upper right')\n",
    "    \n",
    "\n",
    "coordinates_member()   "
   ]
  },
  {
   "cell_type": "markdown",
   "id": "c764a540-7e66-4b8f-acf2-b4ccdc19be9b",
   "metadata": {},
   "source": [
    "More visualizations have been made in [Tableau](https://public.tableau.com/app/profile/alberto4473/viz/CyclisticBikeShare_16576236423730/Historia1?publish=yes).\n"
   ]
  },
  {
   "cell_type": "markdown",
   "id": "f3b5c5bc-1352-4551-a509-3ffce89f5b64",
   "metadata": {},
   "source": [
    "### Trends and relationships"
   ]
  },
  {
   "cell_type": "markdown",
   "id": "a07e5971-ba9c-4285-bdf8-284dd673dcb9",
   "metadata": {},
   "source": [
    "#### Common for casual riders and annual members:"
   ]
  },
  {
   "cell_type": "markdown",
   "id": "04a00d25-799a-4780-8674-4b3c4bd37835",
   "metadata": {},
   "source": [
    "- They barely use Cyclistic bikes during colder months.\n",
    "- Distance ridden is roughly the same. \n",
    "- Tend to end the trip near the bay area."
   ]
  },
  {
   "cell_type": "markdown",
   "id": "1cc20fcb-1b54-4043-a591-84ed4fc36f01",
   "metadata": {},
   "source": [
    "#### Annual members"
   ]
  },
  {
   "cell_type": "markdown",
   "id": "5cfe3b55-68c7-4497-8d21-2be006f2d844",
   "metadata": {},
   "source": [
    "- Most active during conmuting hours on weekdays.\n",
    "- Ride more bikes in summer months, but somewhat evenly spread across the year.\n",
    "- Use more classic bikes.\n",
    "- Preference for electric bikes is growing.\n",
    "- Do not use docked bikes at all."
   ]
  },
  {
   "cell_type": "markdown",
   "id": "e2f9eb2c-8097-43c2-9be8-8311c04a7664",
   "metadata": {},
   "source": [
    "#### Casual riders"
   ]
  },
  {
   "cell_type": "markdown",
   "id": "38ed874e-86ab-4533-a277-70b840a53e0d",
   "metadata": {},
   "source": [
    "- Ride more bikes on weekends.\n",
    "- Tend to be more active during late afternoon and evenings.\n",
    "- Ride bikes mostly in summer months. \n",
    "- Ride all 3 kinds of bycicles, with similar use for electric and classic bikes.\n",
    "- Take longer bike trips and mostly docked bike users."
   ]
  },
  {
   "cell_type": "markdown",
   "id": "e8d12616-fa1d-42d6-ae52-af914c7ad522",
   "metadata": {},
   "source": [
    "### Findings summary"
   ]
  },
  {
   "cell_type": "markdown",
   "id": "b7674f2b-01f9-47d7-89d4-ef6f6c8852a3",
   "metadata": {},
   "source": [
    "We have conducted a quantitative analysis based on completely anonymous data. Our analysis has revealed some important behavioural aspects defining both kind of users, casual riders and annual members. Some differences in the use of the bikes have arised. \n",
    "\n",
    "However, we did not have data to answer **why** do each kind of user choose each kind of pass. Moreover, there are two kind of casual riders, single-ride and full-day pass, while our data did not differentiate between both kinds. There are not data about casual users reiterating on each kind of pass, or if a casual user ever turned into an annual member. For a better analysis and to conduct the best marketing strategy, a qualitative analysis should be conducted. \n",
    "\n",
    "For now, let's see what hypothesis can be arised from the analysis conducted."
   ]
  },
  {
   "cell_type": "markdown",
   "id": "494b5626-03a4-4836-9e0d-ff270abe4a0a",
   "metadata": {},
   "source": [
    "#### Speculations and hypothesis"
   ]
  },
  {
   "cell_type": "markdown",
   "id": "8c3f164e-2ec3-4319-938e-aa300e58bf0a",
   "metadata": {},
   "source": [
    "Annual members ride more bikes for commuting to work. Yet, they get use of their pass by utilizing it for leisure too. \n",
    "This assumptions are made based on the following facts:\n",
    "- There is a peak in commuting hours for members bike rides.\n",
    "- The use during every day of the week is about the same. \n",
    "- Members bike rides all along the year, even if they prefer warm weather. \n",
    "\n",
    "On the other hand, casual riders tend to use Cyclistic bikes mostly for leisure. To back up our assumption we have the following facts:\n",
    "- Use bikes a lot more during weekends. \n",
    "- Barely use the bikes during mornings. \n",
    "- Use bikes mostly on summer with almost no use during winter months.\n",
    "- Spend extra time for getting to their destination. This seems to be either because they do not know how to get to their wish destination or because they want to take extra time to enjoy the ride.\n",
    "- Are attracted when they see docked bike stations. Annual members also have access to docked bikes, yet prefer the other bikes 100 % of the time. This means that casuals might get attracted by docked bike stations and might want to take a ride even if docked bikes are not the best option.\n",
    "- Are more likely to get into a bike when they start to see them riding around town. The peak for casuals is also at 5-6 pm, which is the time where more people are riding overall. At 5 pm people are commuting back from work and more bikes are ridden over all."
   ]
  },
  {
   "cell_type": "markdown",
   "id": "847e2a3d-260a-460d-9039-37b8f2136858",
   "metadata": {},
   "source": [
    "## 6. Act on key findings"
   ]
  },
  {
   "cell_type": "markdown",
   "id": "18cbfb4a-c43e-4d3a-82ed-ccb568713d19",
   "metadata": {},
   "source": [
    "### NEXT STEPS"
   ]
  },
  {
   "cell_type": "markdown",
   "id": "e4476b20-1da2-41fd-b5c2-b97c78936824",
   "metadata": {},
   "source": [
    "### Option A: Conduct a supportive qualitative analysis"
   ]
  },
  {
   "cell_type": "markdown",
   "id": "5a6a3dec-45db-477e-a808-8ea7a155ba1f",
   "metadata": {},
   "source": [
    "Like we have stated before, our analysis can only show how do members and casual riders use the bikes. However, there are many other factors that could help understand why they choose it. It would be very useful to know if casuals could use more than once a single-ride pass. \n",
    "\n",
    "For a qualitative analysis, I would collect the data in two different ways:\n",
    "\n",
    "- Conduct a survey among users. \n",
    "- Make an app to get all kind of passes (single-ride, day pass or annual membership).\n",
    "\n",
    "In the survey, we would need to know:\n",
    "- How did they know Cyclistic.\n",
    "- Why they did use it for the first time.\n",
    "- Have they use it more than once? Are they members or casuals?\n",
    "- For casuals: What is keeping them from getting the annual membership?\n",
    "- For members: What were the reasons to make them choose the annual membership?\n",
    "\n",
    "With the app, we would get to know the following points:\n",
    "- Casuals that get one or more passes (leissure is usually done with more people).\n",
    "- A zipcode to know where are they from (both inside Chicago and outside Chicago).\n",
    "- How many times do the same user gets a bike. \n",
    "- If any casual ever switched to an annual membership.\n",
    "\n",
    "Moreover, the app would be a great source for promotioning annual memberships, since users would see how much more cost effective it could get.\n"
   ]
  },
  {
   "cell_type": "markdown",
   "id": "db676d23-ee90-4264-85da-ea49502e1540",
   "metadata": {},
   "source": [
    "### Option B: Design a marketing strategy"
   ]
  },
  {
   "cell_type": "markdown",
   "id": "b0e6ea34-9e56-4f83-99e9-646cca1941da",
   "metadata": {},
   "source": [
    "We have already uncover some differences on how casuals and members ride Cyclistic bikes. Unfortunately, further research might take some extra time and resources and is not always the best option. \n",
    "\n",
    "If a certain level of risk is acceptable, we could move forward to start a few strategies. Let's see what possibilities could arise from our findings:"
   ]
  },
  {
   "cell_type": "markdown",
   "id": "b3cc918f-ea42-4a50-8914-624748996650",
   "metadata": {},
   "source": [
    "#### Design more plans and benefits"
   ]
  },
  {
   "cell_type": "markdown",
   "id": "171aec8b-4705-42ab-b143-6b3b558cabe4",
   "metadata": {},
   "source": [
    "Right now, there are only three type of passes:\n",
    "- Single-ride pass\n",
    "- Day pass\n",
    "- Annual membership\n",
    "\n",
    "We could implement the following benefits:\n",
    "\n",
    "- **Reservations**: As we have seen, the peak hour for casuals is at 5-6 pm which is exactly when most members are commuting back from work. Reservations could be implemented so that members could reserve the type of bike they want an hour ahead. As with any other routine, members would be more likely to repeat the same bike, and a reservation for a close bike that they like could be very handy for some users. The reservations could be part of a higher-priced pass, as well as a reward for specific ocasions like birthdays, first-time purchases of annual memberships or bringing a friend to annual membership. Also, this benefit could be purchased individually in case it wants to be purchased on specific ocasions. \n",
    "\n",
    "- **\"Invite a friend\"**: This would only be a reward for specific ocasions, like birthdays or first-time purchase of the annual membership. With this ride, members could invite a friend to ride with them once. This benefit will give the visibility to Cyclistic bikes and riding with friends to more people. \n",
    "\n",
    "With that in mind we could introduce two extra types of passes:\n",
    "- **Weekend pass**: The fact that the annual membership has to be paid upfront might be a limitation for some users. Therefore, a plan for leisure riders could be given to be a bit cheaper than the whole annual membership. This pass will give them access to unlimited bike rides during weekends all year long, with price being around 60 % of total annual membership. As most members also use the pass to commute it will not decrease the amount of standard memberships, while increasing the stability for passes year long. \n",
    "\n",
    "- **Gold pass**: This pass would give you the access to a reservation once a day. It should cost around twice as much as standard membership, since that bike would not be ridden for an hour. It would also come with **\"Invite a friend\"** for three times a year. "
   ]
  },
  {
   "cell_type": "markdown",
   "id": "c1909bc6-0cab-4165-8812-48e9253cae44",
   "metadata": {},
   "source": [
    "#### Encourage users to ride more frequently"
   ]
  },
  {
   "cell_type": "markdown",
   "id": "20a7760f-c61e-417d-b63b-07e241c6c77c",
   "metadata": {},
   "source": [
    "Using bikes bring a lot of benefits, from being more healthy and doing exercise, to avoid the annoying traffic, passing by being more environmentally friendly. A campaign where people is informed on these benefits and encouraging them to take bikes might be very useful. The best places to focus on this strategy would be near the bay area, as we have seen most bikes are picked up and dropped of on that area.\n",
    "\n",
    "At that point, a rewarding option to take again the bike would be beneficial. Let's say like a second day pass with a 20% discount for the next 15 days. This way, casual riders will be encouraged to take the bike again. If they start feeling first-hand the advantages of riding bikes, it will be more likely that they will convert into annual members. "
   ]
  },
  {
   "cell_type": "markdown",
   "id": "fabff76c-1105-4eb6-9f2e-aedc176cdc9c",
   "metadata": {},
   "source": [
    "## Additional considerations"
   ]
  },
  {
   "cell_type": "markdown",
   "id": "bac72a12-8799-4ac3-bd45-44f81180fe33",
   "metadata": {},
   "source": [
    "If further analysis is considered, additional resources would be very handy. Data could be arised from most frequent stations and amount of bikes on those stations during the day. Relationships between rides and weather, i.e., how does precipitation, temperature or humidity levels affect the amount and length of the rides.\n",
    "\n",
    "Additionaly, all data was completely anonymous since it is a public dataset and privacy must be asured. However, if the actual company would perform the analysis extra information could be given to the analyst as long as they make sure that privacy would not be compromised outside of the study in case. Profiles for each kind of user could be better analyzed with that data.\n",
    "\n",
    "Also, if the mobile app is developed as suggested, much more data could be analyzed to better understand the behaviour of both annual members and casual riders."
   ]
  },
  {
   "cell_type": "code",
   "execution_count": null,
   "id": "aaef2c54-7d47-4642-80d6-da9e28e1e201",
   "metadata": {},
   "outputs": [],
   "source": []
  }
 ],
 "metadata": {
  "kernelspec": {
   "display_name": "Python 3 (ipykernel)",
   "language": "python",
   "name": "python3"
  },
  "language_info": {
   "codemirror_mode": {
    "name": "ipython",
    "version": 3
   },
   "file_extension": ".py",
   "mimetype": "text/x-python",
   "name": "python",
   "nbconvert_exporter": "python",
   "pygments_lexer": "ipython3",
   "version": "3.9.12"
  }
 },
 "nbformat": 4,
 "nbformat_minor": 5
}
